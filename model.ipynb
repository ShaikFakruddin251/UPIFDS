{
 "cells": [
  {
   "cell_type": "code",
   "execution_count": 2,
   "id": "6b0bd6e4",
   "metadata": {},
   "outputs": [],
   "source": [
    "import pandas as pd\n",
    "import numpy as np\n",
    "import matplotlib.pyplot as plt\n",
    "# from skimpy import skim\n",
    "import seaborn as sns"
   ]
  },
  {
   "cell_type": "code",
   "execution_count": 3,
   "id": "4f2f930e",
   "metadata": {
    "execution": {
     "iopub.execute_input": "2024-07-17T09:05:21.234041Z",
     "iopub.status.busy": "2024-07-17T09:05:21.233554Z",
     "iopub.status.idle": "2024-07-17T09:05:21.261381Z",
     "shell.execute_reply": "2024-07-17T09:05:21.260436Z"
    },
    "papermill": {
     "duration": 0.042619,
     "end_time": "2024-07-17T09:05:21.263996",
     "exception": false,
     "start_time": "2024-07-17T09:05:21.221377",
     "status": "completed"
    },
    "tags": []
   },
   "outputs": [],
   "source": [
    "df=pd.read_csv(r'extended_data.csv')"
   ]
  },
  {
   "cell_type": "code",
   "execution_count": 4,
   "id": "0512b895",
   "metadata": {
    "execution": {
     "iopub.execute_input": "2024-07-17T09:05:21.288751Z",
     "iopub.status.busy": "2024-07-17T09:05:21.288344Z",
     "iopub.status.idle": "2024-07-17T09:05:21.323145Z",
     "shell.execute_reply": "2024-07-17T09:05:21.322041Z"
    },
    "papermill": {
     "duration": 0.049884,
     "end_time": "2024-07-17T09:05:21.325420",
     "exception": false,
     "start_time": "2024-07-17T09:05:21.275536",
     "status": "completed"
    },
    "tags": []
   },
   "outputs": [
    {
     "data": {
      "text/html": [
       "<div>\n",
       "<style scoped>\n",
       "    .dataframe tbody tr th:only-of-type {\n",
       "        vertical-align: middle;\n",
       "    }\n",
       "\n",
       "    .dataframe tbody tr th {\n",
       "        vertical-align: top;\n",
       "    }\n",
       "\n",
       "    .dataframe thead th {\n",
       "        text-align: right;\n",
       "    }\n",
       "</style>\n",
       "<table border=\"1\" class=\"dataframe\">\n",
       "  <thead>\n",
       "    <tr style=\"text-align: right;\">\n",
       "      <th></th>\n",
       "      <th>Transaction ID</th>\n",
       "      <th>Timestamp</th>\n",
       "      <th>Sender Name</th>\n",
       "      <th>Sender UPI ID</th>\n",
       "      <th>Receiver Name</th>\n",
       "      <th>Receiver UPI ID</th>\n",
       "      <th>Amount (INR)</th>\n",
       "      <th>Status</th>\n",
       "    </tr>\n",
       "  </thead>\n",
       "  <tbody>\n",
       "    <tr>\n",
       "      <th>0</th>\n",
       "      <td>d9143864-a066-486b-b03a-f5ed5d75c309</td>\n",
       "      <td>2024-10-19 08:45:00</td>\n",
       "      <td>Aditya Mehta</td>\n",
       "      <td>4462116922@okaxis</td>\n",
       "      <td>Sai Reddy</td>\n",
       "      <td>8917922022@okaxis</td>\n",
       "      <td>5516.59</td>\n",
       "      <td>FAILED</td>\n",
       "    </tr>\n",
       "    <tr>\n",
       "      <th>1</th>\n",
       "      <td>49ffd909-1ea0-48a9-98cd-0ce74cf647c1</td>\n",
       "      <td>2024-06-18 06:27:00</td>\n",
       "      <td>Lakshya Kumar</td>\n",
       "      <td>0338057199@okaxis</td>\n",
       "      <td>Anaya Mehta</td>\n",
       "      <td>2527016608@okaxis</td>\n",
       "      <td>4344.40</td>\n",
       "      <td>FAILED</td>\n",
       "    </tr>\n",
       "    <tr>\n",
       "      <th>2</th>\n",
       "      <td>deb78da5-de6e-428b-997b-2e21c1bb38a4</td>\n",
       "      <td>2024-06-07 21:32:00</td>\n",
       "      <td>Aarav Patel</td>\n",
       "      <td>2587110868@oksbi</td>\n",
       "      <td>Arjun Roy</td>\n",
       "      <td>2939615956@okaxis</td>\n",
       "      <td>6053.47</td>\n",
       "      <td>SUCCESS</td>\n",
       "    </tr>\n",
       "    <tr>\n",
       "      <th>3</th>\n",
       "      <td>46a3e969-aafc-4ec1-9636-45fd4f875a94</td>\n",
       "      <td>2024-08-04 08:54:00</td>\n",
       "      <td>Vihaan Patel</td>\n",
       "      <td>0851187428@okhdfcbank</td>\n",
       "      <td>Anaya Sharma</td>\n",
       "      <td>1710638945@okaxis</td>\n",
       "      <td>1178.30</td>\n",
       "      <td>SUCCESS</td>\n",
       "    </tr>\n",
       "    <tr>\n",
       "      <th>4</th>\n",
       "      <td>ab263234-f989-4f23-a415-5bacf26ed4c8</td>\n",
       "      <td>2024-09-19 06:47:00</td>\n",
       "      <td>Aditya Roy</td>\n",
       "      <td>1217672526@okaxis</td>\n",
       "      <td>Diya Mehta</td>\n",
       "      <td>7167927152@okaxis</td>\n",
       "      <td>3149.08</td>\n",
       "      <td>SUCCESS</td>\n",
       "    </tr>\n",
       "    <tr>\n",
       "      <th>...</th>\n",
       "      <td>...</td>\n",
       "      <td>...</td>\n",
       "      <td>...</td>\n",
       "      <td>...</td>\n",
       "      <td>...</td>\n",
       "      <td>...</td>\n",
       "      <td>...</td>\n",
       "      <td>...</td>\n",
       "    </tr>\n",
       "    <tr>\n",
       "      <th>299995</th>\n",
       "      <td>a74cc492-785a-4324-ab97-1b488e5cb60a</td>\n",
       "      <td>2024-06-18 14:59:00</td>\n",
       "      <td>Vivaan Gupta</td>\n",
       "      <td>4725892392@okaxis</td>\n",
       "      <td>Arjun Singh</td>\n",
       "      <td>8605606173@okybl</td>\n",
       "      <td>8581.09</td>\n",
       "      <td>SUCCESS</td>\n",
       "    </tr>\n",
       "    <tr>\n",
       "      <th>299996</th>\n",
       "      <td>8eff2ba3-1c02-4c58-81cc-5befce2999e3</td>\n",
       "      <td>2024-06-18 05:44:00</td>\n",
       "      <td>Kian Verma</td>\n",
       "      <td>1813912642@okaxis</td>\n",
       "      <td>Lakshya Sharma</td>\n",
       "      <td>7593875756@okaxis</td>\n",
       "      <td>659.99</td>\n",
       "      <td>SUCCESS</td>\n",
       "    </tr>\n",
       "    <tr>\n",
       "      <th>299997</th>\n",
       "      <td>7b34f09e-90a5-4a25-86ce-5f01c6649c2a</td>\n",
       "      <td>2024-07-24 21:46:00</td>\n",
       "      <td>Lakshya Reddy</td>\n",
       "      <td>0485709858@okybl</td>\n",
       "      <td>Vihaan Sharma</td>\n",
       "      <td>3087494960@okaxis</td>\n",
       "      <td>4525.40</td>\n",
       "      <td>SUCCESS</td>\n",
       "    </tr>\n",
       "    <tr>\n",
       "      <th>299998</th>\n",
       "      <td>25fb64c2-6040-43d3-9855-ce411519f622</td>\n",
       "      <td>2024-08-08 19:45:00</td>\n",
       "      <td>Anaya Roy</td>\n",
       "      <td>3883288077@okaxis</td>\n",
       "      <td>Vihaan Jha</td>\n",
       "      <td>5516052009@okicici</td>\n",
       "      <td>9256.15</td>\n",
       "      <td>SUCCESS</td>\n",
       "    </tr>\n",
       "    <tr>\n",
       "      <th>299999</th>\n",
       "      <td>fea14017-b406-4cfb-b714-222f7c82e307</td>\n",
       "      <td>2024-08-07 01:57:00</td>\n",
       "      <td>Lakshya Gupta</td>\n",
       "      <td>4063553367@okaxis</td>\n",
       "      <td>Anaya Roy</td>\n",
       "      <td>3256922624@okaxis</td>\n",
       "      <td>4890.54</td>\n",
       "      <td>SUCCESS</td>\n",
       "    </tr>\n",
       "  </tbody>\n",
       "</table>\n",
       "<p>300000 rows × 8 columns</p>\n",
       "</div>"
      ],
      "text/plain": [
       "                              Transaction ID            Timestamp  \\\n",
       "0       d9143864-a066-486b-b03a-f5ed5d75c309  2024-10-19 08:45:00   \n",
       "1       49ffd909-1ea0-48a9-98cd-0ce74cf647c1  2024-06-18 06:27:00   \n",
       "2       deb78da5-de6e-428b-997b-2e21c1bb38a4  2024-06-07 21:32:00   \n",
       "3       46a3e969-aafc-4ec1-9636-45fd4f875a94  2024-08-04 08:54:00   \n",
       "4       ab263234-f989-4f23-a415-5bacf26ed4c8  2024-09-19 06:47:00   \n",
       "...                                      ...                  ...   \n",
       "299995  a74cc492-785a-4324-ab97-1b488e5cb60a  2024-06-18 14:59:00   \n",
       "299996  8eff2ba3-1c02-4c58-81cc-5befce2999e3  2024-06-18 05:44:00   \n",
       "299997  7b34f09e-90a5-4a25-86ce-5f01c6649c2a  2024-07-24 21:46:00   \n",
       "299998  25fb64c2-6040-43d3-9855-ce411519f622  2024-08-08 19:45:00   \n",
       "299999  fea14017-b406-4cfb-b714-222f7c82e307  2024-08-07 01:57:00   \n",
       "\n",
       "          Sender Name          Sender UPI ID   Receiver Name  \\\n",
       "0        Aditya Mehta      4462116922@okaxis       Sai Reddy   \n",
       "1       Lakshya Kumar      0338057199@okaxis     Anaya Mehta   \n",
       "2         Aarav Patel       2587110868@oksbi       Arjun Roy   \n",
       "3        Vihaan Patel  0851187428@okhdfcbank    Anaya Sharma   \n",
       "4          Aditya Roy      1217672526@okaxis      Diya Mehta   \n",
       "...               ...                    ...             ...   \n",
       "299995   Vivaan Gupta      4725892392@okaxis     Arjun Singh   \n",
       "299996     Kian Verma      1813912642@okaxis  Lakshya Sharma   \n",
       "299997  Lakshya Reddy       0485709858@okybl   Vihaan Sharma   \n",
       "299998      Anaya Roy      3883288077@okaxis      Vihaan Jha   \n",
       "299999  Lakshya Gupta      4063553367@okaxis       Anaya Roy   \n",
       "\n",
       "           Receiver UPI ID  Amount (INR)   Status  \n",
       "0        8917922022@okaxis       5516.59   FAILED  \n",
       "1        2527016608@okaxis       4344.40   FAILED  \n",
       "2        2939615956@okaxis       6053.47  SUCCESS  \n",
       "3        1710638945@okaxis       1178.30  SUCCESS  \n",
       "4        7167927152@okaxis       3149.08  SUCCESS  \n",
       "...                    ...           ...      ...  \n",
       "299995    8605606173@okybl       8581.09  SUCCESS  \n",
       "299996   7593875756@okaxis        659.99  SUCCESS  \n",
       "299997   3087494960@okaxis       4525.40  SUCCESS  \n",
       "299998  5516052009@okicici       9256.15  SUCCESS  \n",
       "299999   3256922624@okaxis       4890.54  SUCCESS  \n",
       "\n",
       "[300000 rows x 8 columns]"
      ]
     },
     "execution_count": 4,
     "metadata": {},
     "output_type": "execute_result"
    }
   ],
   "source": [
    "df"
   ]
  },
  {
   "cell_type": "code",
   "execution_count": 5,
   "id": "8c43d682",
   "metadata": {
    "execution": {
     "iopub.execute_input": "2024-07-17T09:05:21.349880Z",
     "iopub.status.busy": "2024-07-17T09:05:21.349468Z",
     "iopub.status.idle": "2024-07-17T09:05:21.357093Z",
     "shell.execute_reply": "2024-07-17T09:05:21.355964Z"
    },
    "papermill": {
     "duration": 0.022333,
     "end_time": "2024-07-17T09:05:21.359198",
     "exception": false,
     "start_time": "2024-07-17T09:05:21.336865",
     "status": "completed"
    },
    "tags": []
   },
   "outputs": [
    {
     "data": {
      "text/plain": [
       "Index(['Transaction ID', 'Timestamp', 'Sender Name', 'Sender UPI ID',\n",
       "       'Receiver Name', 'Receiver UPI ID', 'Amount (INR)', 'Status'],\n",
       "      dtype='object')"
      ]
     },
     "execution_count": 5,
     "metadata": {},
     "output_type": "execute_result"
    }
   ],
   "source": [
    "df.columns"
   ]
  },
  {
   "cell_type": "code",
   "execution_count": 6,
   "id": "6314205e",
   "metadata": {
    "execution": {
     "iopub.execute_input": "2024-07-17T09:05:21.425654Z",
     "iopub.status.busy": "2024-07-17T09:05:21.425267Z",
     "iopub.status.idle": "2024-07-17T09:05:21.437691Z",
     "shell.execute_reply": "2024-07-17T09:05:21.436509Z"
    },
    "papermill": {
     "duration": 0.027706,
     "end_time": "2024-07-17T09:05:21.440233",
     "exception": false,
     "start_time": "2024-07-17T09:05:21.412527",
     "status": "completed"
    },
    "tags": []
   },
   "outputs": [
    {
     "data": {
      "text/plain": [
       "Status\n",
       "SUCCESS    230987\n",
       "FAILED      69013\n",
       "Name: count, dtype: int64"
      ]
     },
     "execution_count": 6,
     "metadata": {},
     "output_type": "execute_result"
    }
   ],
   "source": [
    "df['Status'].value_counts()"
   ]
  },
  {
   "cell_type": "markdown",
   "id": "7b21004d",
   "metadata": {
    "papermill": {
     "duration": 0.011743,
     "end_time": "2024-07-17T09:05:21.463778",
     "exception": false,
     "start_time": "2024-07-17T09:05:21.452035",
     "status": "completed"
    },
    "tags": []
   },
   "source": [
    "1. Now I will extract day,time,month and year from transaction timestamp.\n",
    "2. I will extract upi id after @ for both reciever as well as sender.\n",
    "3. I will drop Transaction Id, Reciever name and Sender Name from df."
   ]
  },
  {
   "cell_type": "code",
   "execution_count": 7,
   "id": "7f5b46e7",
   "metadata": {},
   "outputs": [],
   "source": [
    "# skim(df)"
   ]
  },
  {
   "cell_type": "code",
   "execution_count": 8,
   "id": "702b81aa",
   "metadata": {
    "execution": {
     "iopub.execute_input": "2024-07-17T09:05:21.490004Z",
     "iopub.status.busy": "2024-07-17T09:05:21.489187Z",
     "iopub.status.idle": "2024-07-17T09:05:21.498762Z",
     "shell.execute_reply": "2024-07-17T09:05:21.497526Z"
    },
    "papermill": {
     "duration": 0.0253,
     "end_time": "2024-07-17T09:05:21.501227",
     "exception": false,
     "start_time": "2024-07-17T09:05:21.475927",
     "status": "completed"
    },
    "tags": []
   },
   "outputs": [],
   "source": [
    "df.drop(columns=['Transaction ID','Sender Name','Receiver Name'],inplace=True)"
   ]
  },
  {
   "cell_type": "code",
   "execution_count": 9,
   "id": "45cf2e39",
   "metadata": {
    "execution": {
     "iopub.execute_input": "2024-07-17T09:05:21.526854Z",
     "iopub.status.busy": "2024-07-17T09:05:21.526468Z",
     "iopub.status.idle": "2024-07-17T09:05:21.541140Z",
     "shell.execute_reply": "2024-07-17T09:05:21.539777Z"
    },
    "papermill": {
     "duration": 0.03064,
     "end_time": "2024-07-17T09:05:21.543548",
     "exception": false,
     "start_time": "2024-07-17T09:05:21.512908",
     "status": "completed"
    },
    "tags": []
   },
   "outputs": [
    {
     "name": "stdout",
     "output_type": "stream",
     "text": [
      "<class 'pandas.core.frame.DataFrame'>\n",
      "RangeIndex: 300000 entries, 0 to 299999\n",
      "Data columns (total 5 columns):\n",
      " #   Column           Non-Null Count   Dtype  \n",
      "---  ------           --------------   -----  \n",
      " 0   Timestamp        300000 non-null  object \n",
      " 1   Sender UPI ID    300000 non-null  object \n",
      " 2   Receiver UPI ID  300000 non-null  object \n",
      " 3   Amount (INR)     300000 non-null  float64\n",
      " 4   Status           300000 non-null  object \n",
      "dtypes: float64(1), object(4)\n",
      "memory usage: 11.4+ MB\n"
     ]
    }
   ],
   "source": [
    "df.info()"
   ]
  },
  {
   "cell_type": "markdown",
   "id": "14d1ee49",
   "metadata": {
    "papermill": {
     "duration": 0.01153,
     "end_time": "2024-07-17T09:05:21.566970",
     "exception": false,
     "start_time": "2024-07-17T09:05:21.555440",
     "status": "completed"
    },
    "tags": []
   },
   "source": [
    "# Data Preprocessing"
   ]
  },
  {
   "cell_type": "code",
   "execution_count": 10,
   "id": "0dd998cb",
   "metadata": {
    "execution": {
     "iopub.execute_input": "2024-07-17T09:05:21.592715Z",
     "iopub.status.busy": "2024-07-17T09:05:21.591824Z",
     "iopub.status.idle": "2024-07-17T09:05:21.598176Z",
     "shell.execute_reply": "2024-07-17T09:05:21.597042Z"
    },
    "papermill": {
     "duration": 0.02171,
     "end_time": "2024-07-17T09:05:21.600531",
     "exception": false,
     "start_time": "2024-07-17T09:05:21.578821",
     "status": "completed"
    },
    "tags": []
   },
   "outputs": [],
   "source": [
    "def get_year(row):\n",
    "    return row[:4]\n",
    "def get_month(row):\n",
    "    return row[5:7]\n",
    "def get_day(row):\n",
    "    return row[8:10]"
   ]
  },
  {
   "cell_type": "code",
   "execution_count": 11,
   "id": "51be7bce",
   "metadata": {
    "execution": {
     "iopub.execute_input": "2024-07-17T09:05:21.626211Z",
     "iopub.status.busy": "2024-07-17T09:05:21.625827Z",
     "iopub.status.idle": "2024-07-17T09:05:21.635743Z",
     "shell.execute_reply": "2024-07-17T09:05:21.634714Z"
    },
    "papermill": {
     "duration": 0.02602,
     "end_time": "2024-07-17T09:05:21.638390",
     "exception": false,
     "start_time": "2024-07-17T09:05:21.612370",
     "status": "completed"
    },
    "tags": []
   },
   "outputs": [],
   "source": [
    "df['Year']=df['Timestamp'].apply(get_year)\n",
    "df['Month']=df['Timestamp'].apply(get_month)\n",
    "df['Day']=df['Timestamp'].apply(get_day)"
   ]
  },
  {
   "cell_type": "code",
   "execution_count": 12,
   "id": "9b35fceb",
   "metadata": {
    "execution": {
     "iopub.execute_input": "2024-07-17T09:05:21.664909Z",
     "iopub.status.busy": "2024-07-17T09:05:21.664487Z",
     "iopub.status.idle": "2024-07-17T09:05:21.671887Z",
     "shell.execute_reply": "2024-07-17T09:05:21.670825Z"
    },
    "papermill": {
     "duration": 0.023383,
     "end_time": "2024-07-17T09:05:21.674102",
     "exception": false,
     "start_time": "2024-07-17T09:05:21.650719",
     "status": "completed"
    },
    "tags": []
   },
   "outputs": [],
   "source": [
    "df['Year']=df['Year'].astype('int')\n",
    "df['Month']=df['Month'].astype('int')\n",
    "df['Day']=df['Day'].astype('int')"
   ]
  },
  {
   "cell_type": "code",
   "execution_count": 13,
   "id": "5aacc4ed",
   "metadata": {
    "execution": {
     "iopub.execute_input": "2024-07-17T09:05:21.699194Z",
     "iopub.status.busy": "2024-07-17T09:05:21.698805Z",
     "iopub.status.idle": "2024-07-17T09:05:21.710232Z",
     "shell.execute_reply": "2024-07-17T09:05:21.708991Z"
    },
    "papermill": {
     "duration": 0.026599,
     "end_time": "2024-07-17T09:05:21.712532",
     "exception": false,
     "start_time": "2024-07-17T09:05:21.685933",
     "status": "completed"
    },
    "tags": []
   },
   "outputs": [
    {
     "name": "stdout",
     "output_type": "stream",
     "text": [
      "Year\n",
      "2024    300000\n",
      "Name: count, dtype: int64\n",
      "Month\n",
      "7     123055\n",
      "6     121399\n",
      "8      35313\n",
      "10      2403\n",
      "1       2354\n",
      "12      2328\n",
      "3       2260\n",
      "5       2255\n",
      "4       2225\n",
      "9       2220\n",
      "2       2095\n",
      "11      2093\n",
      "Name: count, dtype: int64\n",
      "Day\n",
      "6     12781\n",
      "5     12760\n",
      "4     12745\n",
      "8     12708\n",
      "7     12679\n",
      "3     12675\n",
      "1     12630\n",
      "2     12499\n",
      "9     10590\n",
      "23     8918\n",
      "17     8910\n",
      "16     8891\n",
      "28     8866\n",
      "21     8836\n",
      "11     8831\n",
      "12     8815\n",
      "25     8809\n",
      "24     8794\n",
      "18     8790\n",
      "22     8726\n",
      "27     8720\n",
      "14     8703\n",
      "10     8683\n",
      "13     8669\n",
      "19     8640\n",
      "26     8631\n",
      "30     8592\n",
      "20     8585\n",
      "29     8572\n",
      "15     8556\n",
      "31     4396\n",
      "Name: count, dtype: int64\n"
     ]
    }
   ],
   "source": [
    "print(df['Year'].value_counts())\n",
    "print(df['Month'].value_counts())\n",
    "print(df['Day'].value_counts())"
   ]
  },
  {
   "cell_type": "code",
   "execution_count": 14,
   "id": "a023b97e",
   "metadata": {},
   "outputs": [
    {
     "data": {
      "image/png": "[encoded data removed]",
      "text/plain": [
       "<Figure size 2000x800 with 1 Axes>"
      ]
     },
     "metadata": {},
     "output_type": "display_data"
    },
    {
     "data": {
      "image/png": "[encoded data removed]",
      "text/plain": [
       "<Figure size 2000x800 with 1 Axes>"
      ]
     },
     "metadata": {},
     "output_type": "display_data"
    },
    {
     "data": {
      "image/png": "[encoded data removed]",
      "text/plain": [
       "<Figure size 2000x800 with 1 Axes>"
      ]
     },
     "metadata": {},
     "output_type": "display_data"
    }
   ],
   "source": [
    "import matplotlib.pyplot as plt\n",
    "\n",
    "# Iterate over integer columns in the DataFrame\n",
    "for i in df.select_dtypes(include='int'):\n",
    "    plt.figure(figsize=(20, 8))  # Adjusted height for better visibility\n",
    "    plt.pie(\n",
    "        df[i].value_counts(),\n",
    "        autopct='%1.1f%%',  # Percentage display format\n",
    "        startangle=90,  # Start angle for the pie chart\n",
    "        shadow=True,  # Add shadow for depth\n",
    "        colors=plt.cm.tab20.colors,  # Color palette for different segments\n",
    "        explode=[0.1] * len(df[i].value_counts())  # Slightly separate each slice\n",
    "    )\n",
    "    plt.title(f'Distribution of {i}', fontsize=16)  # Title for the pie chart\n",
    "    plt.axis('equal')  # Equal aspect ratio ensures the pie chart is circular\n",
    "    plt.show()  # Display the pie chart\n"
   ]
  },
  {
   "cell_type": "code",
   "execution_count": 15,
   "id": "8b35646a",
   "metadata": {
    "execution": {
     "iopub.execute_input": "2024-07-17T09:05:21.738270Z",
     "iopub.status.busy": "2024-07-17T09:05:21.737416Z",
     "iopub.status.idle": "2024-07-17T09:05:22.301608Z",
     "shell.execute_reply": "2024-07-17T09:05:22.300523Z"
    },
    "papermill": {
     "duration": 0.580088,
     "end_time": "2024-07-17T09:05:22.304341",
     "exception": false,
     "start_time": "2024-07-17T09:05:21.724253",
     "status": "completed"
    },
    "tags": []
   },
   "outputs": [],
   "source": [
    "df['Timestamp']=df['Timestamp'].apply(lambda x: pd.to_datetime(x))"
   ]
  },
  {
   "cell_type": "code",
   "execution_count": 16,
   "id": "eed55cd1",
   "metadata": {
    "execution": {
     "iopub.execute_input": "2024-07-17T09:05:22.329904Z",
     "iopub.status.busy": "2024-07-17T09:05:22.329527Z",
     "iopub.status.idle": "2024-07-17T09:05:22.334858Z",
     "shell.execute_reply": "2024-07-17T09:05:22.333722Z"
    },
    "papermill": {
     "duration": 0.020688,
     "end_time": "2024-07-17T09:05:22.337076",
     "exception": false,
     "start_time": "2024-07-17T09:05:22.316388",
     "status": "completed"
    },
    "tags": []
   },
   "outputs": [],
   "source": [
    "def get_hours(row):\n",
    "    return row.hour\n",
    "def get_minutes(row):\n",
    "    return row.minute"
   ]
  },
  {
   "cell_type": "code",
   "execution_count": 17,
   "id": "e27c1e17",
   "metadata": {
    "execution": {
     "iopub.execute_input": "2024-07-17T09:05:22.362698Z",
     "iopub.status.busy": "2024-07-17T09:05:22.362320Z",
     "iopub.status.idle": "2024-07-17T09:05:22.373074Z",
     "shell.execute_reply": "2024-07-17T09:05:22.371547Z"
    },
    "papermill": {
     "duration": 0.026312,
     "end_time": "2024-07-17T09:05:22.375363",
     "exception": false,
     "start_time": "2024-07-17T09:05:22.349051",
     "status": "completed"
    },
    "tags": []
   },
   "outputs": [],
   "source": [
    "df['Hour']=df['Timestamp'].apply(get_hours)\n",
    "df['Minute']=df['Timestamp'].apply(get_minutes)"
   ]
  },
  {
   "cell_type": "code",
   "execution_count": 18,
   "id": "5497a2ef",
   "metadata": {
    "execution": {
     "iopub.execute_input": "2024-07-17T09:05:22.400549Z",
     "iopub.status.busy": "2024-07-17T09:05:22.400150Z",
     "iopub.status.idle": "2024-07-17T09:05:22.406710Z",
     "shell.execute_reply": "2024-07-17T09:05:22.405548Z"
    },
    "papermill": {
     "duration": 0.021776,
     "end_time": "2024-07-17T09:05:22.408937",
     "exception": false,
     "start_time": "2024-07-17T09:05:22.387161",
     "status": "completed"
    },
    "tags": []
   },
   "outputs": [],
   "source": [
    "df.drop(columns=['Year','Month','Timestamp'],inplace=True)"
   ]
  },
  {
   "cell_type": "code",
   "execution_count": 19,
   "id": "22074796",
   "metadata": {
    "execution": {
     "iopub.execute_input": "2024-07-17T09:05:22.434043Z",
     "iopub.status.busy": "2024-07-17T09:05:22.433690Z",
     "iopub.status.idle": "2024-07-17T09:05:22.448687Z",
     "shell.execute_reply": "2024-07-17T09:05:22.447524Z"
    },
    "papermill": {
     "duration": 0.030336,
     "end_time": "2024-07-17T09:05:22.451095",
     "exception": false,
     "start_time": "2024-07-17T09:05:22.420759",
     "status": "completed"
    },
    "tags": []
   },
   "outputs": [
    {
     "name": "stderr",
     "output_type": "stream",
     "text": [
      "c:\\ProgramData\\anaconda3\\Lib\\site-packages\\seaborn\\categorical.py:1794: FutureWarning: use_inf_as_na option is deprecated and will be removed in a future version. Convert inf values to NaN before operating instead.\n",
      "  with pd.option_context('mode.use_inf_as_na', True):\n",
      "c:\\ProgramData\\anaconda3\\Lib\\site-packages\\seaborn\\categorical.py:1794: FutureWarning: use_inf_as_na option is deprecated and will be removed in a future version. Convert inf values to NaN before operating instead.\n",
      "  with pd.option_context('mode.use_inf_as_na', True):\n",
      "c:\\ProgramData\\anaconda3\\Lib\\site-packages\\seaborn\\categorical.py:1794: FutureWarning: use_inf_as_na option is deprecated and will be removed in a future version. Convert inf values to NaN before operating instead.\n",
      "  with pd.option_context('mode.use_inf_as_na', True):\n"
     ]
    },
    {
     "data": {
      "image/png": "[encoded data removed]",
      "text/plain": [
       "<Figure size 2000x200 with 1 Axes>"
      ]
     },
     "metadata": {},
     "output_type": "display_data"
    },
    {
     "data": {
      "image/png": "[encoded data removed]",
      "text/plain": [
       "<Figure size 2000x200 with 1 Axes>"
      ]
     },
     "metadata": {},
     "output_type": "display_data"
    },
    {
     "data": {
      "image/png": "[encoded data removed]",
      "text/plain": [
       "<Figure size 2000x200 with 1 Axes>"
      ]
     },
     "metadata": {},
     "output_type": "display_data"
    }
   ],
   "source": [
    "for i in df.select_dtypes(include='int'):\n",
    "    plt.figure(figsize=(20,2))\n",
    "    sns.boxenplot(df[i])"
   ]
  },
  {
   "cell_type": "code",
   "execution_count": 20,
   "id": "a15f7326",
   "metadata": {
    "execution": {
     "iopub.execute_input": "2024-07-17T09:05:22.477777Z",
     "iopub.status.busy": "2024-07-17T09:05:22.477391Z",
     "iopub.status.idle": "2024-07-17T09:05:22.482849Z",
     "shell.execute_reply": "2024-07-17T09:05:22.481719Z"
    },
    "papermill": {
     "duration": 0.02159,
     "end_time": "2024-07-17T09:05:22.485390",
     "exception": false,
     "start_time": "2024-07-17T09:05:22.463800",
     "status": "completed"
    },
    "tags": []
   },
   "outputs": [],
   "source": [
    "def get_upi(row):\n",
    "    indx=row.index('@')\n",
    "    return row[indx+1:]"
   ]
  },
  {
   "cell_type": "code",
   "execution_count": 21,
   "id": "0e8989eb",
   "metadata": {
    "execution": {
     "iopub.execute_input": "2024-07-17T09:05:22.512133Z",
     "iopub.status.busy": "2024-07-17T09:05:22.511779Z",
     "iopub.status.idle": "2024-07-17T09:05:22.519842Z",
     "shell.execute_reply": "2024-07-17T09:05:22.518575Z"
    },
    "papermill": {
     "duration": 0.02455,
     "end_time": "2024-07-17T09:05:22.522202",
     "exception": false,
     "start_time": "2024-07-17T09:05:22.497652",
     "status": "completed"
    },
    "tags": []
   },
   "outputs": [],
   "source": [
    "df['Sender']=df['Sender UPI ID'].apply(get_upi)\n",
    "df['Receiver']=df['Receiver UPI ID'].apply(get_upi)"
   ]
  },
  {
   "cell_type": "code",
   "execution_count": 22,
   "id": "b3128dcd",
   "metadata": {
    "execution": {
     "iopub.execute_input": "2024-07-17T09:05:22.548867Z",
     "iopub.status.busy": "2024-07-17T09:05:22.548449Z",
     "iopub.status.idle": "2024-07-17T09:05:22.554953Z",
     "shell.execute_reply": "2024-07-17T09:05:22.553865Z"
    },
    "papermill": {
     "duration": 0.022767,
     "end_time": "2024-07-17T09:05:22.557415",
     "exception": false,
     "start_time": "2024-07-17T09:05:22.534648",
     "status": "completed"
    },
    "tags": []
   },
   "outputs": [],
   "source": [
    "df.drop(columns=['Sender UPI ID','Receiver UPI ID'],inplace=True)"
   ]
  },
  {
   "cell_type": "code",
   "execution_count": 23,
   "id": "419fe362",
   "metadata": {
    "execution": {
     "iopub.execute_input": "2024-07-17T09:05:22.641614Z",
     "iopub.status.busy": "2024-07-17T09:05:22.641244Z",
     "iopub.status.idle": "2024-07-17T09:05:22.657256Z",
     "shell.execute_reply": "2024-07-17T09:05:22.656021Z"
    },
    "papermill": {
     "duration": 0.089474,
     "end_time": "2024-07-17T09:05:22.659655",
     "exception": false,
     "start_time": "2024-07-17T09:05:22.570181",
     "status": "completed"
    },
    "tags": []
   },
   "outputs": [
    {
     "data": {
      "text/html": [
       "<div>\n",
       "<style scoped>\n",
       "    .dataframe tbody tr th:only-of-type {\n",
       "        vertical-align: middle;\n",
       "    }\n",
       "\n",
       "    .dataframe tbody tr th {\n",
       "        vertical-align: top;\n",
       "    }\n",
       "\n",
       "    .dataframe thead th {\n",
       "        text-align: right;\n",
       "    }\n",
       "</style>\n",
       "<table border=\"1\" class=\"dataframe\">\n",
       "  <thead>\n",
       "    <tr style=\"text-align: right;\">\n",
       "      <th></th>\n",
       "      <th>Amount (INR)</th>\n",
       "      <th>Status</th>\n",
       "      <th>Day</th>\n",
       "      <th>Hour</th>\n",
       "      <th>Minute</th>\n",
       "      <th>Sender</th>\n",
       "      <th>Receiver</th>\n",
       "    </tr>\n",
       "  </thead>\n",
       "  <tbody>\n",
       "    <tr>\n",
       "      <th>0</th>\n",
       "      <td>5516.59</td>\n",
       "      <td>FAILED</td>\n",
       "      <td>19</td>\n",
       "      <td>8</td>\n",
       "      <td>45</td>\n",
       "      <td>okaxis</td>\n",
       "      <td>okaxis</td>\n",
       "    </tr>\n",
       "    <tr>\n",
       "      <th>1</th>\n",
       "      <td>4344.40</td>\n",
       "      <td>FAILED</td>\n",
       "      <td>18</td>\n",
       "      <td>6</td>\n",
       "      <td>27</td>\n",
       "      <td>okaxis</td>\n",
       "      <td>okaxis</td>\n",
       "    </tr>\n",
       "    <tr>\n",
       "      <th>2</th>\n",
       "      <td>6053.47</td>\n",
       "      <td>SUCCESS</td>\n",
       "      <td>7</td>\n",
       "      <td>21</td>\n",
       "      <td>32</td>\n",
       "      <td>oksbi</td>\n",
       "      <td>okaxis</td>\n",
       "    </tr>\n",
       "    <tr>\n",
       "      <th>3</th>\n",
       "      <td>1178.30</td>\n",
       "      <td>SUCCESS</td>\n",
       "      <td>4</td>\n",
       "      <td>8</td>\n",
       "      <td>54</td>\n",
       "      <td>okhdfcbank</td>\n",
       "      <td>okaxis</td>\n",
       "    </tr>\n",
       "    <tr>\n",
       "      <th>4</th>\n",
       "      <td>3149.08</td>\n",
       "      <td>SUCCESS</td>\n",
       "      <td>19</td>\n",
       "      <td>6</td>\n",
       "      <td>47</td>\n",
       "      <td>okaxis</td>\n",
       "      <td>okaxis</td>\n",
       "    </tr>\n",
       "    <tr>\n",
       "      <th>...</th>\n",
       "      <td>...</td>\n",
       "      <td>...</td>\n",
       "      <td>...</td>\n",
       "      <td>...</td>\n",
       "      <td>...</td>\n",
       "      <td>...</td>\n",
       "      <td>...</td>\n",
       "    </tr>\n",
       "    <tr>\n",
       "      <th>299995</th>\n",
       "      <td>8581.09</td>\n",
       "      <td>SUCCESS</td>\n",
       "      <td>18</td>\n",
       "      <td>14</td>\n",
       "      <td>59</td>\n",
       "      <td>okaxis</td>\n",
       "      <td>okybl</td>\n",
       "    </tr>\n",
       "    <tr>\n",
       "      <th>299996</th>\n",
       "      <td>659.99</td>\n",
       "      <td>SUCCESS</td>\n",
       "      <td>18</td>\n",
       "      <td>5</td>\n",
       "      <td>44</td>\n",
       "      <td>okaxis</td>\n",
       "      <td>okaxis</td>\n",
       "    </tr>\n",
       "    <tr>\n",
       "      <th>299997</th>\n",
       "      <td>4525.40</td>\n",
       "      <td>SUCCESS</td>\n",
       "      <td>24</td>\n",
       "      <td>21</td>\n",
       "      <td>46</td>\n",
       "      <td>okybl</td>\n",
       "      <td>okaxis</td>\n",
       "    </tr>\n",
       "    <tr>\n",
       "      <th>299998</th>\n",
       "      <td>9256.15</td>\n",
       "      <td>SUCCESS</td>\n",
       "      <td>8</td>\n",
       "      <td>19</td>\n",
       "      <td>45</td>\n",
       "      <td>okaxis</td>\n",
       "      <td>okicici</td>\n",
       "    </tr>\n",
       "    <tr>\n",
       "      <th>299999</th>\n",
       "      <td>4890.54</td>\n",
       "      <td>SUCCESS</td>\n",
       "      <td>7</td>\n",
       "      <td>1</td>\n",
       "      <td>57</td>\n",
       "      <td>okaxis</td>\n",
       "      <td>okaxis</td>\n",
       "    </tr>\n",
       "  </tbody>\n",
       "</table>\n",
       "<p>300000 rows × 7 columns</p>\n",
       "</div>"
      ],
      "text/plain": [
       "        Amount (INR)   Status  Day  Hour  Minute      Sender Receiver\n",
       "0            5516.59   FAILED   19     8      45      okaxis   okaxis\n",
       "1            4344.40   FAILED   18     6      27      okaxis   okaxis\n",
       "2            6053.47  SUCCESS    7    21      32       oksbi   okaxis\n",
       "3            1178.30  SUCCESS    4     8      54  okhdfcbank   okaxis\n",
       "4            3149.08  SUCCESS   19     6      47      okaxis   okaxis\n",
       "...              ...      ...  ...   ...     ...         ...      ...\n",
       "299995       8581.09  SUCCESS   18    14      59      okaxis    okybl\n",
       "299996        659.99  SUCCESS   18     5      44      okaxis   okaxis\n",
       "299997       4525.40  SUCCESS   24    21      46       okybl   okaxis\n",
       "299998       9256.15  SUCCESS    8    19      45      okaxis  okicici\n",
       "299999       4890.54  SUCCESS    7     1      57      okaxis   okaxis\n",
       "\n",
       "[300000 rows x 7 columns]"
      ]
     },
     "execution_count": 23,
     "metadata": {},
     "output_type": "execute_result"
    }
   ],
   "source": [
    "df"
   ]
  },
  {
   "cell_type": "code",
   "execution_count": 24,
   "id": "520b64f7",
   "metadata": {},
   "outputs": [
    {
     "data": {
      "image/png": "[encoded data removed]",
      "text/plain": [
       "<Figure size 2000x200 with 1 Axes>"
      ]
     },
     "metadata": {},
     "output_type": "display_data"
    },
    {
     "data": {
      "image/png": "[encoded data removed]",
      "text/plain": [
       "<Figure size 2000x200 with 1 Axes>"
      ]
     },
     "metadata": {},
     "output_type": "display_data"
    },
    {
     "data": {
      "image/png": "[encoded data removed]",
      "text/plain": [
       "<Figure size 2000x200 with 1 Axes>"
      ]
     },
     "metadata": {},
     "output_type": "display_data"
    }
   ],
   "source": [
    "for i in df.select_dtypes(include='int'):\n",
    "    plt.figure(figsize=(20,2))\n",
    "    sns.boxplot(df[i])"
   ]
  },
  {
   "cell_type": "code",
   "execution_count": 25,
   "id": "dacf5478",
   "metadata": {
    "execution": {
     "iopub.execute_input": "2024-07-17T09:05:22.687846Z",
     "iopub.status.busy": "2024-07-17T09:05:22.687098Z",
     "iopub.status.idle": "2024-07-17T09:05:24.049049Z",
     "shell.execute_reply": "2024-07-17T09:05:24.047799Z"
    },
    "papermill": {
     "duration": 1.379161,
     "end_time": "2024-07-17T09:05:24.051870",
     "exception": false,
     "start_time": "2024-07-17T09:05:22.672709",
     "status": "completed"
    },
    "tags": []
   },
   "outputs": [],
   "source": [
    "from sklearn.preprocessing import MinMaxScaler,StandardScaler,OneHotEncoder,LabelEncoder\n",
    "from sklearn.model_selection import train_test_split"
   ]
  },
  {
   "cell_type": "code",
   "execution_count": 28,
   "id": "c52ec3ee",
   "metadata": {
    "execution": {
     "iopub.execute_input": "2024-07-17T09:05:24.079544Z",
     "iopub.status.busy": "2024-07-17T09:05:24.079119Z",
     "iopub.status.idle": "2024-07-17T09:05:24.085201Z",
     "shell.execute_reply": "2024-07-17T09:05:24.084067Z"
    },
    "papermill": {
     "duration": 0.022678,
     "end_time": "2024-07-17T09:05:24.087668",
     "exception": false,
     "start_time": "2024-07-17T09:05:24.064990",
     "status": "completed"
    },
    "tags": []
   },
   "outputs": [],
   "source": [
    "le=LabelEncoder()\n",
    "df['Status']=le.fit_transform(df['Status'])\n",
    "df['Sender']=le.fit_transform(df['Sender'])\n",
    "df['Receiver']=le.fit_transform(df['Receiver'])"
   ]
  },
  {
   "cell_type": "code",
   "execution_count": 29,
   "id": "3ac02c8d",
   "metadata": {
    "execution": {
     "iopub.execute_input": "2024-07-17T09:05:24.115174Z",
     "iopub.status.busy": "2024-07-17T09:05:24.114779Z",
     "iopub.status.idle": "2024-07-17T09:05:24.130786Z",
     "shell.execute_reply": "2024-07-17T09:05:24.129559Z"
    },
    "papermill": {
     "duration": 0.032561,
     "end_time": "2024-07-17T09:05:24.133231",
     "exception": false,
     "start_time": "2024-07-17T09:05:24.100670",
     "status": "completed"
    },
    "tags": []
   },
   "outputs": [
    {
     "data": {
      "text/html": [
       "<div>\n",
       "<style scoped>\n",
       "    .dataframe tbody tr th:only-of-type {\n",
       "        vertical-align: middle;\n",
       "    }\n",
       "\n",
       "    .dataframe tbody tr th {\n",
       "        vertical-align: top;\n",
       "    }\n",
       "\n",
       "    .dataframe thead th {\n",
       "        text-align: right;\n",
       "    }\n",
       "</style>\n",
       "<table border=\"1\" class=\"dataframe\">\n",
       "  <thead>\n",
       "    <tr style=\"text-align: right;\">\n",
       "      <th></th>\n",
       "      <th>Amount (INR)</th>\n",
       "      <th>Status</th>\n",
       "      <th>Day</th>\n",
       "      <th>Hour</th>\n",
       "      <th>Minute</th>\n",
       "      <th>Sender</th>\n",
       "      <th>Receiver</th>\n",
       "    </tr>\n",
       "  </thead>\n",
       "  <tbody>\n",
       "    <tr>\n",
       "      <th>0</th>\n",
       "      <td>5516.59</td>\n",
       "      <td>0</td>\n",
       "      <td>19</td>\n",
       "      <td>8</td>\n",
       "      <td>45</td>\n",
       "      <td>0</td>\n",
       "      <td>0</td>\n",
       "    </tr>\n",
       "    <tr>\n",
       "      <th>1</th>\n",
       "      <td>4344.40</td>\n",
       "      <td>0</td>\n",
       "      <td>18</td>\n",
       "      <td>6</td>\n",
       "      <td>27</td>\n",
       "      <td>0</td>\n",
       "      <td>0</td>\n",
       "    </tr>\n",
       "    <tr>\n",
       "      <th>2</th>\n",
       "      <td>6053.47</td>\n",
       "      <td>1</td>\n",
       "      <td>7</td>\n",
       "      <td>21</td>\n",
       "      <td>32</td>\n",
       "      <td>3</td>\n",
       "      <td>0</td>\n",
       "    </tr>\n",
       "    <tr>\n",
       "      <th>3</th>\n",
       "      <td>1178.30</td>\n",
       "      <td>1</td>\n",
       "      <td>4</td>\n",
       "      <td>8</td>\n",
       "      <td>54</td>\n",
       "      <td>1</td>\n",
       "      <td>0</td>\n",
       "    </tr>\n",
       "    <tr>\n",
       "      <th>4</th>\n",
       "      <td>3149.08</td>\n",
       "      <td>1</td>\n",
       "      <td>19</td>\n",
       "      <td>6</td>\n",
       "      <td>47</td>\n",
       "      <td>0</td>\n",
       "      <td>0</td>\n",
       "    </tr>\n",
       "    <tr>\n",
       "      <th>...</th>\n",
       "      <td>...</td>\n",
       "      <td>...</td>\n",
       "      <td>...</td>\n",
       "      <td>...</td>\n",
       "      <td>...</td>\n",
       "      <td>...</td>\n",
       "      <td>...</td>\n",
       "    </tr>\n",
       "    <tr>\n",
       "      <th>299995</th>\n",
       "      <td>8581.09</td>\n",
       "      <td>1</td>\n",
       "      <td>18</td>\n",
       "      <td>14</td>\n",
       "      <td>59</td>\n",
       "      <td>0</td>\n",
       "      <td>4</td>\n",
       "    </tr>\n",
       "    <tr>\n",
       "      <th>299996</th>\n",
       "      <td>659.99</td>\n",
       "      <td>1</td>\n",
       "      <td>18</td>\n",
       "      <td>5</td>\n",
       "      <td>44</td>\n",
       "      <td>0</td>\n",
       "      <td>0</td>\n",
       "    </tr>\n",
       "    <tr>\n",
       "      <th>299997</th>\n",
       "      <td>4525.40</td>\n",
       "      <td>1</td>\n",
       "      <td>24</td>\n",
       "      <td>21</td>\n",
       "      <td>46</td>\n",
       "      <td>4</td>\n",
       "      <td>0</td>\n",
       "    </tr>\n",
       "    <tr>\n",
       "      <th>299998</th>\n",
       "      <td>9256.15</td>\n",
       "      <td>1</td>\n",
       "      <td>8</td>\n",
       "      <td>19</td>\n",
       "      <td>45</td>\n",
       "      <td>0</td>\n",
       "      <td>2</td>\n",
       "    </tr>\n",
       "    <tr>\n",
       "      <th>299999</th>\n",
       "      <td>4890.54</td>\n",
       "      <td>1</td>\n",
       "      <td>7</td>\n",
       "      <td>1</td>\n",
       "      <td>57</td>\n",
       "      <td>0</td>\n",
       "      <td>0</td>\n",
       "    </tr>\n",
       "  </tbody>\n",
       "</table>\n",
       "<p>300000 rows × 7 columns</p>\n",
       "</div>"
      ],
      "text/plain": [
       "        Amount (INR)  Status  Day  Hour  Minute  Sender  Receiver\n",
       "0            5516.59       0   19     8      45       0         0\n",
       "1            4344.40       0   18     6      27       0         0\n",
       "2            6053.47       1    7    21      32       3         0\n",
       "3            1178.30       1    4     8      54       1         0\n",
       "4            3149.08       1   19     6      47       0         0\n",
       "...              ...     ...  ...   ...     ...     ...       ...\n",
       "299995       8581.09       1   18    14      59       0         4\n",
       "299996        659.99       1   18     5      44       0         0\n",
       "299997       4525.40       1   24    21      46       4         0\n",
       "299998       9256.15       1    8    19      45       0         2\n",
       "299999       4890.54       1    7     1      57       0         0\n",
       "\n",
       "[300000 rows x 7 columns]"
      ]
     },
     "execution_count": 29,
     "metadata": {},
     "output_type": "execute_result"
    }
   ],
   "source": [
    "df"
   ]
  },
  {
   "cell_type": "code",
   "execution_count": 73,
   "id": "392d972b",
   "metadata": {
    "execution": {
     "iopub.execute_input": "2024-07-17T09:05:24.160869Z",
     "iopub.status.busy": "2024-07-17T09:05:24.160466Z",
     "iopub.status.idle": "2024-07-17T09:05:24.169174Z",
     "shell.execute_reply": "2024-07-17T09:05:24.167900Z"
    },
    "papermill": {
     "duration": 0.025274,
     "end_time": "2024-07-17T09:05:24.171614",
     "exception": false,
     "start_time": "2024-07-17T09:05:24.146340",
     "status": "completed"
    },
    "tags": []
   },
   "outputs": [
    {
     "data": {
      "text/plain": [
       "['Sender', 'Receiver']"
      ]
     },
     "execution_count": 73,
     "metadata": {},
     "output_type": "execute_result"
    }
   ],
   "source": [
    "categorical_columns = df.select_dtypes(include=['object']).columns.tolist()\n",
    "categorical_columns"
   ]
  },
  {
   "cell_type": "code",
   "execution_count": 74,
   "id": "2fcb6476",
   "metadata": {
    "execution": {
     "iopub.execute_input": "2024-07-17T09:05:24.199303Z",
     "iopub.status.busy": "2024-07-17T09:05:24.198921Z",
     "iopub.status.idle": "2024-07-17T09:05:24.212893Z",
     "shell.execute_reply": "2024-07-17T09:05:24.211723Z"
    },
    "papermill": {
     "duration": 0.030951,
     "end_time": "2024-07-17T09:05:24.215789",
     "exception": false,
     "start_time": "2024-07-17T09:05:24.184838",
     "status": "completed"
    },
    "tags": []
   },
   "outputs": [],
   "source": [
    "encoder=OneHotEncoder(sparse_output=False,drop='first')\n",
    "ohe_data=encoder.fit_transform(df[categorical_columns])"
   ]
  },
  {
   "cell_type": "code",
   "execution_count": 75,
   "id": "4d5fa6a7",
   "metadata": {
    "execution": {
     "iopub.execute_input": "2024-07-17T09:05:24.245508Z",
     "iopub.status.busy": "2024-07-17T09:05:24.244316Z",
     "iopub.status.idle": "2024-07-17T09:05:24.250186Z",
     "shell.execute_reply": "2024-07-17T09:05:24.249155Z"
    },
    "papermill": {
     "duration": 0.023654,
     "end_time": "2024-07-17T09:05:24.252524",
     "exception": false,
     "start_time": "2024-07-17T09:05:24.228870",
     "status": "completed"
    },
    "tags": []
   },
   "outputs": [],
   "source": [
    "new_df=pd.DataFrame(ohe_data,columns=encoder.get_feature_names_out(categorical_columns))"
   ]
  },
  {
   "cell_type": "code",
   "execution_count": 76,
   "id": "f59466ab",
   "metadata": {
    "execution": {
     "iopub.execute_input": "2024-07-17T09:05:24.281039Z",
     "iopub.status.busy": "2024-07-17T09:05:24.280628Z",
     "iopub.status.idle": "2024-07-17T09:05:24.289117Z",
     "shell.execute_reply": "2024-07-17T09:05:24.287795Z"
    },
    "papermill": {
     "duration": 0.025943,
     "end_time": "2024-07-17T09:05:24.291579",
     "exception": false,
     "start_time": "2024-07-17T09:05:24.265636",
     "status": "completed"
    },
    "tags": []
   },
   "outputs": [],
   "source": [
    "# Concatenate the one-hot encoded dataframe with the original dataframe\n",
    "df_encoded = pd.concat([df, new_df], axis=1)\n",
    "\n",
    "# Drop the original categorical columns\n",
    "df_encoded = df_encoded.drop(categorical_columns, axis=1)"
   ]
  },
  {
   "cell_type": "code",
   "execution_count": 77,
   "id": "00af89b9",
   "metadata": {
    "execution": {
     "iopub.execute_input": "2024-07-17T09:05:24.319527Z",
     "iopub.status.busy": "2024-07-17T09:05:24.319080Z",
     "iopub.status.idle": "2024-07-17T09:05:24.343563Z",
     "shell.execute_reply": "2024-07-17T09:05:24.342448Z"
    },
    "papermill": {
     "duration": 0.041018,
     "end_time": "2024-07-17T09:05:24.345761",
     "exception": false,
     "start_time": "2024-07-17T09:05:24.304743",
     "status": "completed"
    },
    "tags": []
   },
   "outputs": [
    {
     "data": {
      "text/html": [
       "<div>\n",
       "<style scoped>\n",
       "    .dataframe tbody tr th:only-of-type {\n",
       "        vertical-align: middle;\n",
       "    }\n",
       "\n",
       "    .dataframe tbody tr th {\n",
       "        vertical-align: top;\n",
       "    }\n",
       "\n",
       "    .dataframe thead th {\n",
       "        text-align: right;\n",
       "    }\n",
       "</style>\n",
       "<table border=\"1\" class=\"dataframe\">\n",
       "  <thead>\n",
       "    <tr style=\"text-align: right;\">\n",
       "      <th></th>\n",
       "      <th>Amount (INR)</th>\n",
       "      <th>Status</th>\n",
       "      <th>Day</th>\n",
       "      <th>Hour</th>\n",
       "      <th>Minute</th>\n",
       "      <th>Sender_okhdfcbank</th>\n",
       "      <th>Sender_okicici</th>\n",
       "      <th>Sender_oksbi</th>\n",
       "      <th>Sender_okybl</th>\n",
       "      <th>Receiver_okhdfcbank</th>\n",
       "      <th>Receiver_okicici</th>\n",
       "      <th>Receiver_oksbi</th>\n",
       "      <th>Receiver_okybl</th>\n",
       "    </tr>\n",
       "  </thead>\n",
       "  <tbody>\n",
       "    <tr>\n",
       "      <th>0</th>\n",
       "      <td>3907.340000</td>\n",
       "      <td>0</td>\n",
       "      <td>22</td>\n",
       "      <td>4</td>\n",
       "      <td>6</td>\n",
       "      <td>0.0</td>\n",
       "      <td>0.0</td>\n",
       "      <td>0.0</td>\n",
       "      <td>0.0</td>\n",
       "      <td>0.0</td>\n",
       "      <td>0.0</td>\n",
       "      <td>0.0</td>\n",
       "      <td>1.0</td>\n",
       "    </tr>\n",
       "    <tr>\n",
       "      <th>1</th>\n",
       "      <td>8404.550000</td>\n",
       "      <td>1</td>\n",
       "      <td>19</td>\n",
       "      <td>6</td>\n",
       "      <td>4</td>\n",
       "      <td>0.0</td>\n",
       "      <td>0.0</td>\n",
       "      <td>0.0</td>\n",
       "      <td>0.0</td>\n",
       "      <td>0.0</td>\n",
       "      <td>0.0</td>\n",
       "      <td>0.0</td>\n",
       "      <td>0.0</td>\n",
       "    </tr>\n",
       "    <tr>\n",
       "      <th>2</th>\n",
       "      <td>941.880000</td>\n",
       "      <td>1</td>\n",
       "      <td>4</td>\n",
       "      <td>4</td>\n",
       "      <td>56</td>\n",
       "      <td>0.0</td>\n",
       "      <td>0.0</td>\n",
       "      <td>0.0</td>\n",
       "      <td>1.0</td>\n",
       "      <td>0.0</td>\n",
       "      <td>1.0</td>\n",
       "      <td>0.0</td>\n",
       "      <td>0.0</td>\n",
       "    </tr>\n",
       "    <tr>\n",
       "      <th>3</th>\n",
       "      <td>8926.000000</td>\n",
       "      <td>1</td>\n",
       "      <td>9</td>\n",
       "      <td>9</td>\n",
       "      <td>56</td>\n",
       "      <td>1.0</td>\n",
       "      <td>0.0</td>\n",
       "      <td>0.0</td>\n",
       "      <td>0.0</td>\n",
       "      <td>0.0</td>\n",
       "      <td>0.0</td>\n",
       "      <td>0.0</td>\n",
       "      <td>0.0</td>\n",
       "    </tr>\n",
       "    <tr>\n",
       "      <th>4</th>\n",
       "      <td>2800.550000</td>\n",
       "      <td>1</td>\n",
       "      <td>25</td>\n",
       "      <td>8</td>\n",
       "      <td>38</td>\n",
       "      <td>0.0</td>\n",
       "      <td>0.0</td>\n",
       "      <td>0.0</td>\n",
       "      <td>1.0</td>\n",
       "      <td>0.0</td>\n",
       "      <td>0.0</td>\n",
       "      <td>0.0</td>\n",
       "      <td>1.0</td>\n",
       "    </tr>\n",
       "    <tr>\n",
       "      <th>...</th>\n",
       "      <td>...</td>\n",
       "      <td>...</td>\n",
       "      <td>...</td>\n",
       "      <td>...</td>\n",
       "      <td>...</td>\n",
       "      <td>...</td>\n",
       "      <td>...</td>\n",
       "      <td>...</td>\n",
       "      <td>...</td>\n",
       "      <td>...</td>\n",
       "      <td>...</td>\n",
       "      <td>...</td>\n",
       "      <td>...</td>\n",
       "    </tr>\n",
       "    <tr>\n",
       "      <th>110995</th>\n",
       "      <td>317.595193</td>\n",
       "      <td>1</td>\n",
       "      <td>9</td>\n",
       "      <td>10</td>\n",
       "      <td>35</td>\n",
       "      <td>0.0</td>\n",
       "      <td>0.0</td>\n",
       "      <td>0.0</td>\n",
       "      <td>0.0</td>\n",
       "      <td>0.0</td>\n",
       "      <td>0.0</td>\n",
       "      <td>0.0</td>\n",
       "      <td>0.0</td>\n",
       "    </tr>\n",
       "    <tr>\n",
       "      <th>110996</th>\n",
       "      <td>4989.205795</td>\n",
       "      <td>1</td>\n",
       "      <td>9</td>\n",
       "      <td>10</td>\n",
       "      <td>36</td>\n",
       "      <td>0.0</td>\n",
       "      <td>0.0</td>\n",
       "      <td>1.0</td>\n",
       "      <td>0.0</td>\n",
       "      <td>0.0</td>\n",
       "      <td>0.0</td>\n",
       "      <td>0.0</td>\n",
       "      <td>0.0</td>\n",
       "    </tr>\n",
       "    <tr>\n",
       "      <th>110997</th>\n",
       "      <td>1150.815901</td>\n",
       "      <td>0</td>\n",
       "      <td>9</td>\n",
       "      <td>10</td>\n",
       "      <td>37</td>\n",
       "      <td>0.0</td>\n",
       "      <td>0.0</td>\n",
       "      <td>0.0</td>\n",
       "      <td>0.0</td>\n",
       "      <td>0.0</td>\n",
       "      <td>0.0</td>\n",
       "      <td>0.0</td>\n",
       "      <td>0.0</td>\n",
       "    </tr>\n",
       "    <tr>\n",
       "      <th>110998</th>\n",
       "      <td>4401.719444</td>\n",
       "      <td>1</td>\n",
       "      <td>9</td>\n",
       "      <td>10</td>\n",
       "      <td>38</td>\n",
       "      <td>0.0</td>\n",
       "      <td>0.0</td>\n",
       "      <td>0.0</td>\n",
       "      <td>0.0</td>\n",
       "      <td>0.0</td>\n",
       "      <td>0.0</td>\n",
       "      <td>0.0</td>\n",
       "      <td>0.0</td>\n",
       "    </tr>\n",
       "    <tr>\n",
       "      <th>110999</th>\n",
       "      <td>8031.387804</td>\n",
       "      <td>0</td>\n",
       "      <td>9</td>\n",
       "      <td>10</td>\n",
       "      <td>39</td>\n",
       "      <td>0.0</td>\n",
       "      <td>0.0</td>\n",
       "      <td>0.0</td>\n",
       "      <td>0.0</td>\n",
       "      <td>0.0</td>\n",
       "      <td>0.0</td>\n",
       "      <td>0.0</td>\n",
       "      <td>0.0</td>\n",
       "    </tr>\n",
       "  </tbody>\n",
       "</table>\n",
       "<p>111000 rows × 13 columns</p>\n",
       "</div>"
      ],
      "text/plain": [
       "        Amount (INR)  Status  Day  Hour  Minute  Sender_okhdfcbank  \\\n",
       "0        3907.340000       0   22     4       6                0.0   \n",
       "1        8404.550000       1   19     6       4                0.0   \n",
       "2         941.880000       1    4     4      56                0.0   \n",
       "3        8926.000000       1    9     9      56                1.0   \n",
       "4        2800.550000       1   25     8      38                0.0   \n",
       "...              ...     ...  ...   ...     ...                ...   \n",
       "110995    317.595193       1    9    10      35                0.0   \n",
       "110996   4989.205795       1    9    10      36                0.0   \n",
       "110997   1150.815901       0    9    10      37                0.0   \n",
       "110998   4401.719444       1    9    10      38                0.0   \n",
       "110999   8031.387804       0    9    10      39                0.0   \n",
       "\n",
       "        Sender_okicici  Sender_oksbi  Sender_okybl  Receiver_okhdfcbank  \\\n",
       "0                  0.0           0.0           0.0                  0.0   \n",
       "1                  0.0           0.0           0.0                  0.0   \n",
       "2                  0.0           0.0           1.0                  0.0   \n",
       "3                  0.0           0.0           0.0                  0.0   \n",
       "4                  0.0           0.0           1.0                  0.0   \n",
       "...                ...           ...           ...                  ...   \n",
       "110995             0.0           0.0           0.0                  0.0   \n",
       "110996             0.0           1.0           0.0                  0.0   \n",
       "110997             0.0           0.0           0.0                  0.0   \n",
       "110998             0.0           0.0           0.0                  0.0   \n",
       "110999             0.0           0.0           0.0                  0.0   \n",
       "\n",
       "        Receiver_okicici  Receiver_oksbi  Receiver_okybl  \n",
       "0                    0.0             0.0             1.0  \n",
       "1                    0.0             0.0             0.0  \n",
       "2                    1.0             0.0             0.0  \n",
       "3                    0.0             0.0             0.0  \n",
       "4                    0.0             0.0             1.0  \n",
       "...                  ...             ...             ...  \n",
       "110995               0.0             0.0             0.0  \n",
       "110996               0.0             0.0             0.0  \n",
       "110997               0.0             0.0             0.0  \n",
       "110998               0.0             0.0             0.0  \n",
       "110999               0.0             0.0             0.0  \n",
       "\n",
       "[111000 rows x 13 columns]"
      ]
     },
     "execution_count": 77,
     "metadata": {},
     "output_type": "execute_result"
    }
   ],
   "source": [
    "df_encoded"
   ]
  },
  {
   "cell_type": "code",
   "execution_count": 78,
   "id": "0a6e91f1",
   "metadata": {
    "execution": {
     "iopub.execute_input": "2024-07-17T09:05:24.374315Z",
     "iopub.status.busy": "2024-07-17T09:05:24.373912Z",
     "iopub.status.idle": "2024-07-17T09:05:24.398164Z",
     "shell.execute_reply": "2024-07-17T09:05:24.396810Z"
    },
    "papermill": {
     "duration": 0.041453,
     "end_time": "2024-07-17T09:05:24.400710",
     "exception": false,
     "start_time": "2024-07-17T09:05:24.359257",
     "status": "completed"
    },
    "tags": []
   },
   "outputs": [
    {
     "data": {
      "text/html": [
       "<div>\n",
       "<style scoped>\n",
       "    .dataframe tbody tr th:only-of-type {\n",
       "        vertical-align: middle;\n",
       "    }\n",
       "\n",
       "    .dataframe tbody tr th {\n",
       "        vertical-align: top;\n",
       "    }\n",
       "\n",
       "    .dataframe thead th {\n",
       "        text-align: right;\n",
       "    }\n",
       "</style>\n",
       "<table border=\"1\" class=\"dataframe\">\n",
       "  <thead>\n",
       "    <tr style=\"text-align: right;\">\n",
       "      <th></th>\n",
       "      <th>Amount (INR)</th>\n",
       "      <th>Status</th>\n",
       "      <th>Day</th>\n",
       "      <th>Hour</th>\n",
       "      <th>Minute</th>\n",
       "      <th>Sender_okhdfcbank</th>\n",
       "      <th>Sender_okicici</th>\n",
       "      <th>Sender_oksbi</th>\n",
       "      <th>Sender_okybl</th>\n",
       "      <th>Receiver_okhdfcbank</th>\n",
       "      <th>Receiver_okicici</th>\n",
       "      <th>Receiver_oksbi</th>\n",
       "      <th>Receiver_okybl</th>\n",
       "    </tr>\n",
       "  </thead>\n",
       "  <tbody>\n",
       "    <tr>\n",
       "      <th>Amount (INR)</th>\n",
       "      <td>1.000000</td>\n",
       "      <td>0.004089</td>\n",
       "      <td>0.004800</td>\n",
       "      <td>0.001265</td>\n",
       "      <td>0.000063</td>\n",
       "      <td>0.004611</td>\n",
       "      <td>0.002520</td>\n",
       "      <td>0.003529</td>\n",
       "      <td>0.002057</td>\n",
       "      <td>-0.001357</td>\n",
       "      <td>0.000396</td>\n",
       "      <td>-0.001110</td>\n",
       "      <td>0.005406</td>\n",
       "    </tr>\n",
       "    <tr>\n",
       "      <th>Status</th>\n",
       "      <td>0.004089</td>\n",
       "      <td>1.000000</td>\n",
       "      <td>-0.013194</td>\n",
       "      <td>-0.003744</td>\n",
       "      <td>-0.004063</td>\n",
       "      <td>0.003457</td>\n",
       "      <td>0.003311</td>\n",
       "      <td>0.002365</td>\n",
       "      <td>0.000237</td>\n",
       "      <td>-0.000164</td>\n",
       "      <td>-0.004782</td>\n",
       "      <td>0.003255</td>\n",
       "      <td>-0.000516</td>\n",
       "    </tr>\n",
       "    <tr>\n",
       "      <th>Day</th>\n",
       "      <td>0.004800</td>\n",
       "      <td>-0.013194</td>\n",
       "      <td>1.000000</td>\n",
       "      <td>0.003652</td>\n",
       "      <td>0.001239</td>\n",
       "      <td>-0.001646</td>\n",
       "      <td>-0.000911</td>\n",
       "      <td>0.002691</td>\n",
       "      <td>0.002745</td>\n",
       "      <td>-0.002706</td>\n",
       "      <td>0.000525</td>\n",
       "      <td>-0.000222</td>\n",
       "      <td>0.003166</td>\n",
       "    </tr>\n",
       "    <tr>\n",
       "      <th>Hour</th>\n",
       "      <td>0.001265</td>\n",
       "      <td>-0.003744</td>\n",
       "      <td>0.003652</td>\n",
       "      <td>1.000000</td>\n",
       "      <td>0.001460</td>\n",
       "      <td>0.000004</td>\n",
       "      <td>-0.002763</td>\n",
       "      <td>-0.002840</td>\n",
       "      <td>0.000675</td>\n",
       "      <td>-0.005028</td>\n",
       "      <td>0.003539</td>\n",
       "      <td>0.001009</td>\n",
       "      <td>0.001522</td>\n",
       "    </tr>\n",
       "    <tr>\n",
       "      <th>Minute</th>\n",
       "      <td>0.000063</td>\n",
       "      <td>-0.004063</td>\n",
       "      <td>0.001239</td>\n",
       "      <td>0.001460</td>\n",
       "      <td>1.000000</td>\n",
       "      <td>-0.004556</td>\n",
       "      <td>-0.005835</td>\n",
       "      <td>-0.004302</td>\n",
       "      <td>-0.001412</td>\n",
       "      <td>0.002632</td>\n",
       "      <td>0.001850</td>\n",
       "      <td>-0.002405</td>\n",
       "      <td>0.002408</td>\n",
       "    </tr>\n",
       "    <tr>\n",
       "      <th>Sender_okhdfcbank</th>\n",
       "      <td>0.004611</td>\n",
       "      <td>0.003457</td>\n",
       "      <td>-0.001646</td>\n",
       "      <td>0.000004</td>\n",
       "      <td>-0.004556</td>\n",
       "      <td>1.000000</td>\n",
       "      <td>-0.018272</td>\n",
       "      <td>-0.018858</td>\n",
       "      <td>-0.017759</td>\n",
       "      <td>0.010307</td>\n",
       "      <td>0.017020</td>\n",
       "      <td>0.017862</td>\n",
       "      <td>0.017275</td>\n",
       "    </tr>\n",
       "    <tr>\n",
       "      <th>Sender_okicici</th>\n",
       "      <td>0.002520</td>\n",
       "      <td>0.003311</td>\n",
       "      <td>-0.000911</td>\n",
       "      <td>-0.002763</td>\n",
       "      <td>-0.005835</td>\n",
       "      <td>-0.018272</td>\n",
       "      <td>1.000000</td>\n",
       "      <td>-0.019120</td>\n",
       "      <td>-0.018005</td>\n",
       "      <td>0.017559</td>\n",
       "      <td>0.019870</td>\n",
       "      <td>0.018163</td>\n",
       "      <td>0.017052</td>\n",
       "    </tr>\n",
       "    <tr>\n",
       "      <th>Sender_oksbi</th>\n",
       "      <td>0.003529</td>\n",
       "      <td>0.002365</td>\n",
       "      <td>0.002691</td>\n",
       "      <td>-0.002840</td>\n",
       "      <td>-0.004302</td>\n",
       "      <td>-0.018858</td>\n",
       "      <td>-0.019120</td>\n",
       "      <td>1.000000</td>\n",
       "      <td>-0.018583</td>\n",
       "      <td>0.016338</td>\n",
       "      <td>0.014680</td>\n",
       "      <td>0.023451</td>\n",
       "      <td>0.014414</td>\n",
       "    </tr>\n",
       "    <tr>\n",
       "      <th>Sender_okybl</th>\n",
       "      <td>0.002057</td>\n",
       "      <td>0.000237</td>\n",
       "      <td>0.002745</td>\n",
       "      <td>0.000675</td>\n",
       "      <td>-0.001412</td>\n",
       "      <td>-0.017759</td>\n",
       "      <td>-0.018005</td>\n",
       "      <td>-0.018583</td>\n",
       "      <td>1.000000</td>\n",
       "      <td>0.023675</td>\n",
       "      <td>0.016739</td>\n",
       "      <td>0.015476</td>\n",
       "      <td>0.021667</td>\n",
       "    </tr>\n",
       "    <tr>\n",
       "      <th>Receiver_okhdfcbank</th>\n",
       "      <td>-0.001357</td>\n",
       "      <td>-0.000164</td>\n",
       "      <td>-0.002706</td>\n",
       "      <td>-0.005028</td>\n",
       "      <td>0.002632</td>\n",
       "      <td>0.010307</td>\n",
       "      <td>0.017559</td>\n",
       "      <td>0.016338</td>\n",
       "      <td>0.023675</td>\n",
       "      <td>1.000000</td>\n",
       "      <td>-0.018764</td>\n",
       "      <td>-0.018648</td>\n",
       "      <td>-0.019042</td>\n",
       "    </tr>\n",
       "    <tr>\n",
       "      <th>Receiver_okicici</th>\n",
       "      <td>0.000396</td>\n",
       "      <td>-0.004782</td>\n",
       "      <td>0.000525</td>\n",
       "      <td>0.003539</td>\n",
       "      <td>0.001850</td>\n",
       "      <td>0.017020</td>\n",
       "      <td>0.019870</td>\n",
       "      <td>0.014680</td>\n",
       "      <td>0.016739</td>\n",
       "      <td>-0.018764</td>\n",
       "      <td>1.000000</td>\n",
       "      <td>-0.018040</td>\n",
       "      <td>-0.018421</td>\n",
       "    </tr>\n",
       "    <tr>\n",
       "      <th>Receiver_oksbi</th>\n",
       "      <td>-0.001110</td>\n",
       "      <td>0.003255</td>\n",
       "      <td>-0.000222</td>\n",
       "      <td>0.001009</td>\n",
       "      <td>-0.002405</td>\n",
       "      <td>0.017862</td>\n",
       "      <td>0.018163</td>\n",
       "      <td>0.023451</td>\n",
       "      <td>0.015476</td>\n",
       "      <td>-0.018648</td>\n",
       "      <td>-0.018040</td>\n",
       "      <td>1.000000</td>\n",
       "      <td>-0.018307</td>\n",
       "    </tr>\n",
       "    <tr>\n",
       "      <th>Receiver_okybl</th>\n",
       "      <td>0.005406</td>\n",
       "      <td>-0.000516</td>\n",
       "      <td>0.003166</td>\n",
       "      <td>0.001522</td>\n",
       "      <td>0.002408</td>\n",
       "      <td>0.017275</td>\n",
       "      <td>0.017052</td>\n",
       "      <td>0.014414</td>\n",
       "      <td>0.021667</td>\n",
       "      <td>-0.019042</td>\n",
       "      <td>-0.018421</td>\n",
       "      <td>-0.018307</td>\n",
       "      <td>1.000000</td>\n",
       "    </tr>\n",
       "  </tbody>\n",
       "</table>\n",
       "</div>"
      ],
      "text/plain": [
       "                     Amount (INR)    Status       Day      Hour    Minute  \\\n",
       "Amount (INR)             1.000000  0.004089  0.004800  0.001265  0.000063   \n",
       "Status                   0.004089  1.000000 -0.013194 -0.003744 -0.004063   \n",
       "Day                      0.004800 -0.013194  1.000000  0.003652  0.001239   \n",
       "Hour                     0.001265 -0.003744  0.003652  1.000000  0.001460   \n",
       "Minute                   0.000063 -0.004063  0.001239  0.001460  1.000000   \n",
       "Sender_okhdfcbank        0.004611  0.003457 -0.001646  0.000004 -0.004556   \n",
       "Sender_okicici           0.002520  0.003311 -0.000911 -0.002763 -0.005835   \n",
       "Sender_oksbi             0.003529  0.002365  0.002691 -0.002840 -0.004302   \n",
       "Sender_okybl             0.002057  0.000237  0.002745  0.000675 -0.001412   \n",
       "Receiver_okhdfcbank     -0.001357 -0.000164 -0.002706 -0.005028  0.002632   \n",
       "Receiver_okicici         0.000396 -0.004782  0.000525  0.003539  0.001850   \n",
       "Receiver_oksbi          -0.001110  0.003255 -0.000222  0.001009 -0.002405   \n",
       "Receiver_okybl           0.005406 -0.000516  0.003166  0.001522  0.002408   \n",
       "\n",
       "                     Sender_okhdfcbank  Sender_okicici  Sender_oksbi  \\\n",
       "Amount (INR)                  0.004611        0.002520      0.003529   \n",
       "Status                        0.003457        0.003311      0.002365   \n",
       "Day                          -0.001646       -0.000911      0.002691   \n",
       "Hour                          0.000004       -0.002763     -0.002840   \n",
       "Minute                       -0.004556       -0.005835     -0.004302   \n",
       "Sender_okhdfcbank             1.000000       -0.018272     -0.018858   \n",
       "Sender_okicici               -0.018272        1.000000     -0.019120   \n",
       "Sender_oksbi                 -0.018858       -0.019120      1.000000   \n",
       "Sender_okybl                 -0.017759       -0.018005     -0.018583   \n",
       "Receiver_okhdfcbank           0.010307        0.017559      0.016338   \n",
       "Receiver_okicici              0.017020        0.019870      0.014680   \n",
       "Receiver_oksbi                0.017862        0.018163      0.023451   \n",
       "Receiver_okybl                0.017275        0.017052      0.014414   \n",
       "\n",
       "                     Sender_okybl  Receiver_okhdfcbank  Receiver_okicici  \\\n",
       "Amount (INR)             0.002057            -0.001357          0.000396   \n",
       "Status                   0.000237            -0.000164         -0.004782   \n",
       "Day                      0.002745            -0.002706          0.000525   \n",
       "Hour                     0.000675            -0.005028          0.003539   \n",
       "Minute                  -0.001412             0.002632          0.001850   \n",
       "Sender_okhdfcbank       -0.017759             0.010307          0.017020   \n",
       "Sender_okicici          -0.018005             0.017559          0.019870   \n",
       "Sender_oksbi            -0.018583             0.016338          0.014680   \n",
       "Sender_okybl             1.000000             0.023675          0.016739   \n",
       "Receiver_okhdfcbank      0.023675             1.000000         -0.018764   \n",
       "Receiver_okicici         0.016739            -0.018764          1.000000   \n",
       "Receiver_oksbi           0.015476            -0.018648         -0.018040   \n",
       "Receiver_okybl           0.021667            -0.019042         -0.018421   \n",
       "\n",
       "                     Receiver_oksbi  Receiver_okybl  \n",
       "Amount (INR)              -0.001110        0.005406  \n",
       "Status                     0.003255       -0.000516  \n",
       "Day                       -0.000222        0.003166  \n",
       "Hour                       0.001009        0.001522  \n",
       "Minute                    -0.002405        0.002408  \n",
       "Sender_okhdfcbank          0.017862        0.017275  \n",
       "Sender_okicici             0.018163        0.017052  \n",
       "Sender_oksbi               0.023451        0.014414  \n",
       "Sender_okybl               0.015476        0.021667  \n",
       "Receiver_okhdfcbank       -0.018648       -0.019042  \n",
       "Receiver_okicici          -0.018040       -0.018421  \n",
       "Receiver_oksbi             1.000000       -0.018307  \n",
       "Receiver_okybl            -0.018307        1.000000  "
      ]
     },
     "execution_count": 78,
     "metadata": {},
     "output_type": "execute_result"
    }
   ],
   "source": [
    "df_encoded.corr()"
   ]
  },
  {
   "cell_type": "markdown",
   "id": "6eeea027",
   "metadata": {
    "papermill": {
     "duration": 0.013528,
     "end_time": "2024-07-17T09:05:24.428856",
     "exception": false,
     "start_time": "2024-07-17T09:05:24.415328",
     "status": "completed"
    },
    "tags": []
   },
   "source": [
    "# Splitting X and Y"
   ]
  },
  {
   "cell_type": "code",
   "execution_count": 30,
   "id": "8ed44b65",
   "metadata": {
    "execution": {
     "iopub.execute_input": "2024-07-17T09:05:24.459683Z",
     "iopub.status.busy": "2024-07-17T09:05:24.459281Z",
     "iopub.status.idle": "2024-07-17T09:05:24.465915Z",
     "shell.execute_reply": "2024-07-17T09:05:24.464812Z"
    },
    "papermill": {
     "duration": 0.02472,
     "end_time": "2024-07-17T09:05:24.468242",
     "exception": false,
     "start_time": "2024-07-17T09:05:24.443522",
     "status": "completed"
    },
    "tags": []
   },
   "outputs": [],
   "source": [
    "# X=df_encoded.drop(columns=['Status'])\n",
    "# y=df_encoded['Status']\n",
    "X=df.drop(columns=['Status'])\n",
    "y=df['Status']"
   ]
  },
  {
   "cell_type": "code",
   "execution_count": 31,
   "id": "dd6b8fed",
   "metadata": {},
   "outputs": [],
   "source": [
    "from imblearn.over_sampling import SMOTE\n",
    "sm=SMOTE()\n",
    "x_res,y_res=sm.fit_resample(X,y)"
   ]
  },
  {
   "cell_type": "code",
   "execution_count": 32,
   "id": "b8d1b2ed",
   "metadata": {},
   "outputs": [
    {
     "data": {
      "text/html": [
       "<div>\n",
       "<style scoped>\n",
       "    .dataframe tbody tr th:only-of-type {\n",
       "        vertical-align: middle;\n",
       "    }\n",
       "\n",
       "    .dataframe tbody tr th {\n",
       "        vertical-align: top;\n",
       "    }\n",
       "\n",
       "    .dataframe thead th {\n",
       "        text-align: right;\n",
       "    }\n",
       "</style>\n",
       "<table border=\"1\" class=\"dataframe\">\n",
       "  <thead>\n",
       "    <tr style=\"text-align: right;\">\n",
       "      <th></th>\n",
       "      <th>Amount (INR)</th>\n",
       "      <th>Day</th>\n",
       "      <th>Hour</th>\n",
       "      <th>Minute</th>\n",
       "      <th>Sender</th>\n",
       "      <th>Receiver</th>\n",
       "    </tr>\n",
       "  </thead>\n",
       "  <tbody>\n",
       "    <tr>\n",
       "      <th>0</th>\n",
       "      <td>5516.590000</td>\n",
       "      <td>19</td>\n",
       "      <td>8</td>\n",
       "      <td>45</td>\n",
       "      <td>0</td>\n",
       "      <td>0</td>\n",
       "    </tr>\n",
       "    <tr>\n",
       "      <th>1</th>\n",
       "      <td>4344.400000</td>\n",
       "      <td>18</td>\n",
       "      <td>6</td>\n",
       "      <td>27</td>\n",
       "      <td>0</td>\n",
       "      <td>0</td>\n",
       "    </tr>\n",
       "    <tr>\n",
       "      <th>2</th>\n",
       "      <td>6053.470000</td>\n",
       "      <td>7</td>\n",
       "      <td>21</td>\n",
       "      <td>32</td>\n",
       "      <td>3</td>\n",
       "      <td>0</td>\n",
       "    </tr>\n",
       "    <tr>\n",
       "      <th>3</th>\n",
       "      <td>1178.300000</td>\n",
       "      <td>4</td>\n",
       "      <td>8</td>\n",
       "      <td>54</td>\n",
       "      <td>1</td>\n",
       "      <td>0</td>\n",
       "    </tr>\n",
       "    <tr>\n",
       "      <th>4</th>\n",
       "      <td>3149.080000</td>\n",
       "      <td>19</td>\n",
       "      <td>6</td>\n",
       "      <td>47</td>\n",
       "      <td>0</td>\n",
       "      <td>0</td>\n",
       "    </tr>\n",
       "    <tr>\n",
       "      <th>...</th>\n",
       "      <td>...</td>\n",
       "      <td>...</td>\n",
       "      <td>...</td>\n",
       "      <td>...</td>\n",
       "      <td>...</td>\n",
       "      <td>...</td>\n",
       "    </tr>\n",
       "    <tr>\n",
       "      <th>461969</th>\n",
       "      <td>3776.026252</td>\n",
       "      <td>8</td>\n",
       "      <td>11</td>\n",
       "      <td>47</td>\n",
       "      <td>0</td>\n",
       "      <td>0</td>\n",
       "    </tr>\n",
       "    <tr>\n",
       "      <th>461970</th>\n",
       "      <td>6871.286357</td>\n",
       "      <td>1</td>\n",
       "      <td>8</td>\n",
       "      <td>27</td>\n",
       "      <td>0</td>\n",
       "      <td>0</td>\n",
       "    </tr>\n",
       "    <tr>\n",
       "      <th>461971</th>\n",
       "      <td>7927.206812</td>\n",
       "      <td>13</td>\n",
       "      <td>10</td>\n",
       "      <td>20</td>\n",
       "      <td>0</td>\n",
       "      <td>0</td>\n",
       "    </tr>\n",
       "    <tr>\n",
       "      <th>461972</th>\n",
       "      <td>7674.544900</td>\n",
       "      <td>28</td>\n",
       "      <td>7</td>\n",
       "      <td>40</td>\n",
       "      <td>0</td>\n",
       "      <td>0</td>\n",
       "    </tr>\n",
       "    <tr>\n",
       "      <th>461973</th>\n",
       "      <td>7790.955072</td>\n",
       "      <td>23</td>\n",
       "      <td>22</td>\n",
       "      <td>45</td>\n",
       "      <td>0</td>\n",
       "      <td>0</td>\n",
       "    </tr>\n",
       "  </tbody>\n",
       "</table>\n",
       "<p>461974 rows × 6 columns</p>\n",
       "</div>"
      ],
      "text/plain": [
       "        Amount (INR)  Day  Hour  Minute  Sender  Receiver\n",
       "0        5516.590000   19     8      45       0         0\n",
       "1        4344.400000   18     6      27       0         0\n",
       "2        6053.470000    7    21      32       3         0\n",
       "3        1178.300000    4     8      54       1         0\n",
       "4        3149.080000   19     6      47       0         0\n",
       "...              ...  ...   ...     ...     ...       ...\n",
       "461969   3776.026252    8    11      47       0         0\n",
       "461970   6871.286357    1     8      27       0         0\n",
       "461971   7927.206812   13    10      20       0         0\n",
       "461972   7674.544900   28     7      40       0         0\n",
       "461973   7790.955072   23    22      45       0         0\n",
       "\n",
       "[461974 rows x 6 columns]"
      ]
     },
     "execution_count": 32,
     "metadata": {},
     "output_type": "execute_result"
    }
   ],
   "source": [
    "x_res"
   ]
  },
  {
   "cell_type": "code",
   "execution_count": 33,
   "id": "771cf51c",
   "metadata": {
    "execution": {
     "iopub.execute_input": "2024-07-17T09:05:24.499650Z",
     "iopub.status.busy": "2024-07-17T09:05:24.499233Z",
     "iopub.status.idle": "2024-07-17T09:05:24.508611Z",
     "shell.execute_reply": "2024-07-17T09:05:24.507504Z"
    },
    "papermill": {
     "duration": 0.027343,
     "end_time": "2024-07-17T09:05:24.510940",
     "exception": false,
     "start_time": "2024-07-17T09:05:24.483597",
     "status": "completed"
    },
    "tags": []
   },
   "outputs": [],
   "source": [
    "X_train,X_test,y_train,y_test=train_test_split(x_res,y_res,test_size=0.2,random_state=2024)"
   ]
  },
  {
   "cell_type": "code",
   "execution_count": 34,
   "id": "b531344b",
   "metadata": {},
   "outputs": [
    {
     "data": {
      "text/plain": [
       "((369579, 6), (92395, 6), (369579,), (92395,))"
      ]
     },
     "execution_count": 34,
     "metadata": {},
     "output_type": "execute_result"
    }
   ],
   "source": [
    "X_train.shape,X_test.shape,y_train.shape,y_test.shape"
   ]
  },
  {
   "cell_type": "code",
   "execution_count": 35,
   "id": "3ab54be3",
   "metadata": {},
   "outputs": [
    {
     "data": {
      "text/plain": [
       "258338    1\n",
       "71209     1\n",
       "325219    0\n",
       "366865    0\n",
       "277223    0\n",
       "         ..\n",
       "134570    1\n",
       "290096    1\n",
       "23717     1\n",
       "124354    0\n",
       "142256    1\n",
       "Name: Status, Length: 92395, dtype: int64"
      ]
     },
     "execution_count": 35,
     "metadata": {},
     "output_type": "execute_result"
    }
   ],
   "source": [
    "y_test"
   ]
  },
  {
   "cell_type": "code",
   "execution_count": 36,
   "id": "18f079fc",
   "metadata": {},
   "outputs": [],
   "source": [
    "X_test.to_csv('xdata.csv')\n",
    "y_test.to_csv('ydata.csv')\n",
    "y_train.to_csv('y_train.csv')\n",
    "X_train.to_csv('X_train.csv')"
   ]
  },
  {
   "cell_type": "code",
   "execution_count": 37,
   "id": "d6133b23",
   "metadata": {},
   "outputs": [
    {
     "data": {
      "text/plain": [
       "Index(['Amount (INR)', 'Day', 'Hour', 'Minute', 'Sender', 'Receiver'], dtype='object')"
      ]
     },
     "execution_count": 37,
     "metadata": {},
     "output_type": "execute_result"
    }
   ],
   "source": [
    "X_train.columns"
   ]
  },
  {
   "cell_type": "code",
   "execution_count": 38,
   "id": "f0dbe66d",
   "metadata": {},
   "outputs": [
    {
     "data": {
      "text/plain": [
       "Day\n",
       "6     16154\n",
       "5     16009\n",
       "4     15995\n",
       "3     15824\n",
       "7     15673\n",
       "2     15488\n",
       "8     15262\n",
       "1     14295\n",
       "9     13098\n",
       "24    11635\n",
       "25    11401\n",
       "21    11370\n",
       "23    11350\n",
       "26    11321\n",
       "27    11235\n",
       "10    11022\n",
       "16    10998\n",
       "11    10971\n",
       "17    10955\n",
       "28    10928\n",
       "22    10927\n",
       "14    10924\n",
       "18    10919\n",
       "20    10866\n",
       "19    10824\n",
       "12    10768\n",
       "15    10611\n",
       "13    10568\n",
       "29     9962\n",
       "30     8495\n",
       "31     3731\n",
       "Name: count, dtype: int64"
      ]
     },
     "execution_count": 38,
     "metadata": {},
     "output_type": "execute_result"
    }
   ],
   "source": [
    "X_train['Day'].value_counts()"
   ]
  },
  {
   "cell_type": "code",
   "execution_count": null,
   "id": "0f72fab4",
   "metadata": {},
   "outputs": [],
   "source": []
  },
  {
   "cell_type": "code",
   "execution_count": 39,
   "id": "ff4996e2",
   "metadata": {
    "execution": {
     "iopub.execute_input": "2024-07-17T09:05:24.540701Z",
     "iopub.status.busy": "2024-07-17T09:05:24.540286Z",
     "iopub.status.idle": "2024-07-17T09:05:24.551620Z",
     "shell.execute_reply": "2024-07-17T09:05:24.550532Z"
    },
    "papermill": {
     "duration": 0.029026,
     "end_time": "2024-07-17T09:05:24.554252",
     "exception": false,
     "start_time": "2024-07-17T09:05:24.525226",
     "status": "completed"
    },
    "tags": []
   },
   "outputs": [],
   "source": [
    "# scaler=MinMaxScaler()\n",
    "# X_train=scaler.fit_transform(X_train)\n",
    "# X_test=scaler.transform(X_test)"
   ]
  },
  {
   "cell_type": "code",
   "execution_count": 40,
   "id": "95b56aae",
   "metadata": {},
   "outputs": [
    {
     "data": {
      "text/html": [
       "<div>\n",
       "<style scoped>\n",
       "    .dataframe tbody tr th:only-of-type {\n",
       "        vertical-align: middle;\n",
       "    }\n",
       "\n",
       "    .dataframe tbody tr th {\n",
       "        vertical-align: top;\n",
       "    }\n",
       "\n",
       "    .dataframe thead th {\n",
       "        text-align: right;\n",
       "    }\n",
       "</style>\n",
       "<table border=\"1\" class=\"dataframe\">\n",
       "  <thead>\n",
       "    <tr style=\"text-align: right;\">\n",
       "      <th></th>\n",
       "      <th>Amount (INR)</th>\n",
       "      <th>Day</th>\n",
       "      <th>Hour</th>\n",
       "      <th>Minute</th>\n",
       "      <th>Sender</th>\n",
       "      <th>Receiver</th>\n",
       "    </tr>\n",
       "  </thead>\n",
       "  <tbody>\n",
       "    <tr>\n",
       "      <th>258338</th>\n",
       "      <td>7502.230000</td>\n",
       "      <td>17</td>\n",
       "      <td>9</td>\n",
       "      <td>43</td>\n",
       "      <td>0</td>\n",
       "      <td>0</td>\n",
       "    </tr>\n",
       "    <tr>\n",
       "      <th>71209</th>\n",
       "      <td>6308.560000</td>\n",
       "      <td>30</td>\n",
       "      <td>21</td>\n",
       "      <td>29</td>\n",
       "      <td>0</td>\n",
       "      <td>0</td>\n",
       "    </tr>\n",
       "    <tr>\n",
       "      <th>325219</th>\n",
       "      <td>8567.534125</td>\n",
       "      <td>18</td>\n",
       "      <td>12</td>\n",
       "      <td>53</td>\n",
       "      <td>2</td>\n",
       "      <td>0</td>\n",
       "    </tr>\n",
       "    <tr>\n",
       "      <th>366865</th>\n",
       "      <td>4264.721527</td>\n",
       "      <td>6</td>\n",
       "      <td>15</td>\n",
       "      <td>50</td>\n",
       "      <td>0</td>\n",
       "      <td>1</td>\n",
       "    </tr>\n",
       "    <tr>\n",
       "      <th>277223</th>\n",
       "      <td>461.490000</td>\n",
       "      <td>28</td>\n",
       "      <td>19</td>\n",
       "      <td>40</td>\n",
       "      <td>3</td>\n",
       "      <td>1</td>\n",
       "    </tr>\n",
       "    <tr>\n",
       "      <th>...</th>\n",
       "      <td>...</td>\n",
       "      <td>...</td>\n",
       "      <td>...</td>\n",
       "      <td>...</td>\n",
       "      <td>...</td>\n",
       "      <td>...</td>\n",
       "    </tr>\n",
       "    <tr>\n",
       "      <th>134570</th>\n",
       "      <td>5414.390000</td>\n",
       "      <td>18</td>\n",
       "      <td>1</td>\n",
       "      <td>51</td>\n",
       "      <td>0</td>\n",
       "      <td>0</td>\n",
       "    </tr>\n",
       "    <tr>\n",
       "      <th>290096</th>\n",
       "      <td>143.390000</td>\n",
       "      <td>12</td>\n",
       "      <td>12</td>\n",
       "      <td>37</td>\n",
       "      <td>0</td>\n",
       "      <td>0</td>\n",
       "    </tr>\n",
       "    <tr>\n",
       "      <th>23717</th>\n",
       "      <td>4924.280000</td>\n",
       "      <td>13</td>\n",
       "      <td>17</td>\n",
       "      <td>34</td>\n",
       "      <td>1</td>\n",
       "      <td>0</td>\n",
       "    </tr>\n",
       "    <tr>\n",
       "      <th>124354</th>\n",
       "      <td>2659.440000</td>\n",
       "      <td>8</td>\n",
       "      <td>14</td>\n",
       "      <td>51</td>\n",
       "      <td>0</td>\n",
       "      <td>0</td>\n",
       "    </tr>\n",
       "    <tr>\n",
       "      <th>142256</th>\n",
       "      <td>6180.300000</td>\n",
       "      <td>20</td>\n",
       "      <td>5</td>\n",
       "      <td>57</td>\n",
       "      <td>0</td>\n",
       "      <td>0</td>\n",
       "    </tr>\n",
       "  </tbody>\n",
       "</table>\n",
       "<p>92395 rows × 6 columns</p>\n",
       "</div>"
      ],
      "text/plain": [
       "        Amount (INR)  Day  Hour  Minute  Sender  Receiver\n",
       "258338   7502.230000   17     9      43       0         0\n",
       "71209    6308.560000   30    21      29       0         0\n",
       "325219   8567.534125   18    12      53       2         0\n",
       "366865   4264.721527    6    15      50       0         1\n",
       "277223    461.490000   28    19      40       3         1\n",
       "...              ...  ...   ...     ...     ...       ...\n",
       "134570   5414.390000   18     1      51       0         0\n",
       "290096    143.390000   12    12      37       0         0\n",
       "23717    4924.280000   13    17      34       1         0\n",
       "124354   2659.440000    8    14      51       0         0\n",
       "142256   6180.300000   20     5      57       0         0\n",
       "\n",
       "[92395 rows x 6 columns]"
      ]
     },
     "execution_count": 40,
     "metadata": {},
     "output_type": "execute_result"
    }
   ],
   "source": [
    "X_test"
   ]
  },
  {
   "cell_type": "code",
   "execution_count": 41,
   "id": "44ef3cb4",
   "metadata": {
    "execution": {
     "iopub.execute_input": "2024-07-17T09:05:24.584167Z",
     "iopub.status.busy": "2024-07-17T09:05:24.583715Z",
     "iopub.status.idle": "2024-07-17T09:05:24.690086Z",
     "shell.execute_reply": "2024-07-17T09:05:24.689080Z"
    },
    "papermill": {
     "duration": 0.124563,
     "end_time": "2024-07-17T09:05:24.692713",
     "exception": false,
     "start_time": "2024-07-17T09:05:24.568150",
     "status": "completed"
    },
    "tags": []
   },
   "outputs": [],
   "source": [
    "from sklearn.linear_model import LogisticRegression\n",
    "from sklearn.metrics import accuracy_score,confusion_matrix"
   ]
  },
  {
   "cell_type": "markdown",
   "id": "e62fe170",
   "metadata": {
    "papermill": {
     "duration": 0.013464,
     "end_time": "2024-07-17T09:05:24.720082",
     "exception": false,
     "start_time": "2024-07-17T09:05:24.706618",
     "status": "completed"
    },
    "tags": []
   },
   "source": [
    "# Model Building and Evaluation"
   ]
  },
  {
   "cell_type": "code",
   "execution_count": 49,
   "id": "a284a162",
   "metadata": {
    "execution": {
     "iopub.execute_input": "2024-07-17T09:05:25.306163Z",
     "iopub.status.busy": "2024-07-17T09:05:25.305751Z",
     "iopub.status.idle": "2024-07-17T09:05:25.565970Z",
     "shell.execute_reply": "2024-07-17T09:05:25.564847Z"
    },
    "papermill": {
     "duration": 0.278774,
     "end_time": "2024-07-17T09:05:25.568693",
     "exception": false,
     "start_time": "2024-07-17T09:05:25.289919",
     "status": "completed"
    },
    "tags": []
   },
   "outputs": [
    {
     "name": "stdout",
     "output_type": "stream",
     "text": [
      "Accuracy Score of RandomForest=  0.862784782726338\n",
      "====================================================\n",
      "f1 score score fo RandomForest = 0.8646640619996157\n",
      "====================================================\n",
      "precision_score of RandomForest is= 0.8521830615465544\n",
      "====================================================\n",
      "recall_score of RandomForest is = 0.877516087794943\n",
      "===================================================\n",
      "coonfusion matrxi of RandomForest =\n",
      " [[39217  7025]\n",
      " [ 5653 40500]]\n",
      "===================================================\n"
     ]
    }
   ],
   "source": [
    "#import Libraries\n",
    "from sklearn.ensemble import RandomForestClassifier\n",
    "from sklearn.metrics import confusion_matrix,accuracy_score,f1_score,precision_score,recall_score\n",
    "rf = RandomForestClassifier()\n",
    "rf.fit(X_train,y_train)\n",
    "#prediction\n",
    "rf_pred = rf.predict(X_test)\n",
    "#accuracy score\n",
    "rf_acc = accuracy_score(y_test,rf_pred)\n",
    "print(\"Accuracy Score of RandomForest= \",rf_acc)\n",
    "print('====================================================')\n",
    "#finding the f1 score\n",
    "rf_f1 = f1_score(y_test,rf_pred)\n",
    "print(\"f1 score score fo RandomForest =\",rf_f1)\n",
    "print('====================================================')\n",
    "rf_pre = precision_score(y_test,rf_pred)\n",
    "print('precision_score of RandomForest is=',rf_pre)\n",
    "print('====================================================')\n",
    "#recall_score\n",
    "rf_rec = recall_score(y_test,rf_pred)\n",
    "print('recall_score of RandomForest is =',rf_rec)\n",
    "print('===================================================')\n",
    "#confusion matrix\n",
    "rf_cm = confusion_matrix(y_test, rf_pred) \n",
    "print('coonfusion matrxi of RandomForest =\\n',rf_cm)\n",
    "print('===================================================')\n"
   ]
  },
  {
   "cell_type": "code",
   "execution_count": null,
   "id": "18ffb1be",
   "metadata": {},
   "outputs": [],
   "source": []
  },
  {
   "cell_type": "code",
   "execution_count": 50,
   "id": "ed82b0aa",
   "metadata": {
    "execution": {
     "iopub.execute_input": "2024-07-17T09:05:25.599471Z",
     "iopub.status.busy": "2024-07-17T09:05:25.599070Z",
     "iopub.status.idle": "2024-07-17T09:05:25.616051Z",
     "shell.execute_reply": "2024-07-17T09:05:25.614738Z"
    },
    "papermill": {
     "duration": 0.035142,
     "end_time": "2024-07-17T09:05:25.618439",
     "exception": false,
     "start_time": "2024-07-17T09:05:25.583297",
     "status": "completed"
    },
    "tags": []
   },
   "outputs": [
    {
     "data": {
      "image/png": "[encoded data removed]",
      "text/plain": [
       "<Figure size 800x600 with 2 Axes>"
      ]
     },
     "metadata": {},
     "output_type": "display_data"
    }
   ],
   "source": [
    "import matplotlib.pyplot as plt\n",
    "import seaborn as sns\n",
    "# Visualize the confusion matrix\n",
    "plt.figure(figsize=(8, 6))\n",
    "sns.heatmap(rf_cm, annot=True, fmt='d', cmap='Blues')\n",
    "plt.xlabel('Predicted')\n",
    "plt.ylabel('Actual')\n",
    "plt.title('Confusion Matrix')\n",
    "plt.show()"
   ]
  },
  {
   "cell_type": "code",
   "execution_count": null,
   "id": "520dae30",
   "metadata": {},
   "outputs": [],
   "source": [
    "# Import libraries\n",
    "from sklearn.ensemble import RandomForestClassifier\n",
    "from sklearn.metrics import confusion_matrix, accuracy_score, f1_score, precision_score, recall_score\n",
    "from sklearn.model_selection import train_test_split\n",
    "from sklearn.datasets import make_classification\n",
    "\n",
    "\n",
    "# Initialize the RandomForestClassifier with refined parameters\n",
    "rf = RandomForestClassifier(\n",
    "    n_estimators=500,         # Increased number of trees for robustness\n",
    "    max_depth=40,             # Allow deeper trees\n",
    "    min_samples_split=5,      # Minimum samples required to split a node\n",
    "    min_samples_leaf=2,       # Minimum samples required to be at a leaf node\n",
    "    max_features='sqrt',      # Square root of features for splitting\n",
    "    criterion='entropy',      # Use entropy for splitting\n",
    "    bootstrap=True,           # Enable bootstrapping\n",
    "    class_weight='balanced',  # Handle class imbalance\n",
    "    random_state=42           # Ensure reproducibility\n",
    ")\n",
    "\n",
    "\n",
    "# Train the model\n",
    "rf.fit(X_train, y_train)\n",
    "\n",
    "# Predictions\n",
    "rf_pred = rf.predict(X_test)\n",
    "\n",
    "# Evaluation Metrics\n",
    "rf_acc = accuracy_score(y_test, rf_pred)\n",
    "rf_f1 = f1_score(y_test, rf_pred)\n",
    "rf_pre = precision_score(y_test, rf_pred)\n",
    "rf_rec = recall_score(y_test, rf_pred)\n",
    "rf_cm = confusion_matrix(y_test, rf_pred)\n",
    "\n",
    "# Print Evaluation Metrics\n",
    "print(\"Accuracy Score of Random Forest:\", rf_acc)\n",
    "print(\"F1 Score of Random Forest:\", rf_f1)\n",
    "print(\"Precision Score of Random Forest:\", rf_pre)\n",
    "print(\"Recall Score of Random Forest:\", rf_rec)\n",
    "print(\"Confusion Matrix of Random Forest:\\n\", rf_cm)\n"
   ]
  },
  {
   "cell_type": "code",
   "execution_count": 53,
   "id": "4377d5aa",
   "metadata": {
    "execution": {
     "iopub.execute_input": "2024-07-17T09:05:25.999143Z",
     "iopub.status.busy": "2024-07-17T09:05:25.998026Z",
     "iopub.status.idle": "2024-07-17T09:05:26.010158Z",
     "shell.execute_reply": "2024-07-17T09:05:26.008784Z"
    },
    "papermill": {
     "duration": 0.030493,
     "end_time": "2024-07-17T09:05:26.012479",
     "exception": false,
     "start_time": "2024-07-17T09:05:25.981986",
     "status": "completed"
    },
    "tags": []
   },
   "outputs": [
    {
     "name": "stdout",
     "output_type": "stream",
     "text": [
      "Accuracy Score of KNeighborsClassifier=  0.7239461009794902\n",
      "====================================================\n",
      "f1 score score fo KNeighborsClassifier = 0.7184588216321832\n",
      "====================================================\n",
      "precision_score of KNeighborsClassifier is= 0.7425946409497759\n",
      "====================================================\n",
      "recall_score of KNeighborsClassifier is = 0.7238122952370039\n",
      "===================================================\n",
      "coonfusion matrxi of KNeighborsClassifier =\n",
      " [[39894  6348]\n",
      " [19158 26995]]\n",
      "===================================================\n"
     ]
    }
   ],
   "source": [
    "from sklearn.neighbors import KNeighborsClassifier\n",
    "from sklearn.metrics import classification_report, accuracy_score, confusion_matrix,f1_score,precision_score,recall_score\n",
    "knn = KNeighborsClassifier()\n",
    "#fitting to the model\n",
    "knn.fit(X_train,y_train)\n",
    "#predicton\n",
    "knn_pred = knn.predict(X_test)\n",
    "#accuracy score \n",
    "knn_acc = accuracy_score(y_test,knn_pred)\n",
    "print(\"Accuracy Score of KNeighborsClassifier= \",knn_acc)\n",
    "print('====================================================')\n",
    "#finding the f1 score\n",
    "knn_f1 = f1_score(y_test,knn_pred,average='macro')\n",
    "print(\"f1 score score fo KNeighborsClassifier =\",knn_f1)\n",
    "print('====================================================')\n",
    "knn_pre = precision_score(y_test,knn_pred,average='macro')\n",
    "print('precision_score of KNeighborsClassifier is=',knn_pre)\n",
    "print('====================================================')\n",
    "#recall_score\n",
    "knn_rec = recall_score(y_test,knn_pred,average='macro')\n",
    "print('recall_score of KNeighborsClassifier is =',knn_rec)\n",
    "print('===================================================')\n",
    "#confusion matrix\n",
    "knn_cm = confusion_matrix(y_test, knn_pred) \n",
    "print('coonfusion matrxi of KNeighborsClassifier =\\n',knn_cm)\n",
    "print('===================================================')\n"
   ]
  },
  {
   "cell_type": "code",
   "execution_count": 103,
   "id": "898b0fb3",
   "metadata": {
    "execution": {
     "iopub.execute_input": "2024-07-17T09:05:26.046643Z",
     "iopub.status.busy": "2024-07-17T09:05:26.045742Z",
     "iopub.status.idle": "2024-07-17T09:05:26.094280Z",
     "shell.execute_reply": "2024-07-17T09:05:26.093232Z"
    },
    "papermill": {
     "duration": 0.069221,
     "end_time": "2024-07-17T09:05:26.097063",
     "exception": false,
     "start_time": "2024-07-17T09:05:26.027842",
     "status": "completed"
    },
    "tags": []
   },
   "outputs": [
    {
     "data": {
      "image/png": "[encoded data removed]",
      "text/plain": [
       "<Figure size 800x600 with 2 Axes>"
      ]
     },
     "metadata": {},
     "output_type": "display_data"
    }
   ],
   "source": [
    "# Visualize the confusion matrix\n",
    "plt.figure(figsize=(8, 6))\n",
    "sns.heatmap(knn_cm, annot=True, fmt='d', cmap='Blues')\n",
    "plt.xlabel('Predicted')\n",
    "plt.ylabel('Actual')\n",
    "plt.title('Confusion Matrix')\n",
    "plt.show()"
   ]
  },
  {
   "cell_type": "code",
   "execution_count": 54,
   "id": "5d43dea0",
   "metadata": {},
   "outputs": [
    {
     "name": "stdout",
     "output_type": "stream",
     "text": [
      "Accuracy Score of logistic reggression =  0.5154824395259484\n",
      "====================================================\n",
      "f1 score score fo logistic reggression  = 0.3117745630082863\n",
      "====================================================\n",
      "precision_score of logistic reggression  is= 0.5366783105747857\n",
      "====================================================\n",
      "recall_score of logistic reggression  is = 0.2197040279071783\n",
      "===================================================\n",
      "coonfusion matrxi of logistic reggression  =\n",
      " [[37488  8754]\n",
      " [36013 10140]]\n",
      "===================================================\n"
     ]
    }
   ],
   "source": [
    "#import Libraries\n",
    "from sklearn.linear_model import LogisticRegression\n",
    "from sklearn.metrics import confusion_matrix,accuracy_score,f1_score,precision_score,recall_score\n",
    "lr = LogisticRegression()\n",
    "lr.fit(X_train,y_train)\n",
    "#prediction\n",
    "lr_pred = lr.predict(X_test)\n",
    "#accuracy score\n",
    "lr_acc = accuracy_score(y_test,lr_pred)\n",
    "print(\"Accuracy Score of logistic reggression = \",lr_acc)\n",
    "print('====================================================')\n",
    "#finding the f1 score\n",
    "lr_f1 = f1_score(y_test,lr_pred)\n",
    "print(\"f1 score score fo logistic reggression  =\",lr_f1)\n",
    "print('====================================================')\n",
    "lr_pre = precision_score(y_test,lr_pred)\n",
    "print('precision_score of logistic reggression  is=',lr_pre)\n",
    "print('====================================================')\n",
    "#recall_score\n",
    "lr_rec = recall_score(y_test,lr_pred)\n",
    "print('recall_score of logistic reggression  is =',lr_rec)\n",
    "print('===================================================')\n",
    "#confusion matrix\n",
    "lr_cm = confusion_matrix(y_test, lr_pred) \n",
    "print('coonfusion matrxi of logistic reggression  =\\n',lr_cm)\n",
    "print('===================================================')\n"
   ]
  },
  {
   "cell_type": "code",
   "execution_count": 99,
   "id": "5f804bce",
   "metadata": {},
   "outputs": [
    {
     "data": {
      "image/png": "[encoded data removed]",
      "text/plain": [
       "<Figure size 800x600 with 2 Axes>"
      ]
     },
     "metadata": {},
     "output_type": "display_data"
    }
   ],
   "source": [
    "# Visualize the confusion matrix\n",
    "plt.figure(figsize=(8, 6))\n",
    "sns.heatmap(lr_cm, annot=True, fmt='d', cmap='Blues')\n",
    "plt.xlabel('Predicted')\n",
    "plt.ylabel('Actual')\n",
    "plt.title('Confusion Matrix')\n",
    "plt.show()"
   ]
  },
  {
   "cell_type": "code",
   "execution_count": 55,
   "id": "2089d206",
   "metadata": {},
   "outputs": [
    {
     "name": "stdout",
     "output_type": "stream",
     "text": [
      "Accuracy Score of DecisionTreeClassifier=  0.7870555766004654\n",
      "====================================================\n",
      "f1 score score fo DecisionTreeClassifier = 0.7865612219437845\n",
      "====================================================\n",
      "precision_score of DecisionTreeClassifier is= 0.7876292691405231\n",
      "====================================================\n",
      "recall_score of DecisionTreeClassifier is = 0.7854960674279029\n",
      "===================================================\n",
      "coonfusion matrxi of DecisionTreeClassifier =\n",
      " [[36467  9775]\n",
      " [ 9900 36253]]\n",
      "===================================================\n"
     ]
    }
   ],
   "source": [
    "#import Libraries\n",
    "from sklearn.ensemble import RandomForestClassifier\n",
    "from sklearn.tree import DecisionTreeClassifier\n",
    "from sklearn.metrics import confusion_matrix,accuracy_score,f1_score,precision_score,recall_score\n",
    "dtc = DecisionTreeClassifier()\n",
    "dtc.fit(X_train,y_train)\n",
    "#prediction\n",
    "dtc_pred = dtc.predict(X_test)\n",
    "#accuracy score\n",
    "dtc_acc = accuracy_score(y_test,dtc_pred)\n",
    "print(\"Accuracy Score of DecisionTreeClassifier= \",dtc_acc)\n",
    "print('====================================================')\n",
    "#finding the f1 score\n",
    "dtc_f1 = f1_score(y_test,dtc_pred)\n",
    "print(\"f1 score score fo DecisionTreeClassifier =\",dtc_f1)\n",
    "print('====================================================')\n",
    "dtc_pre = precision_score(y_test,dtc_pred)\n",
    "print('precision_score of DecisionTreeClassifier is=',dtc_pre)\n",
    "print('====================================================')\n",
    "#recall_score\n",
    "dtc_rec = recall_score(y_test,dtc_pred)\n",
    "print('recall_score of DecisionTreeClassifier is =',dtc_rec)\n",
    "print('===================================================')\n",
    "#confusion matrix\n",
    "dtc_cm = confusion_matrix(y_test, dtc_pred) \n",
    "print('coonfusion matrxi of DecisionTreeClassifier =\\n',dtc_cm)\n",
    "print('===================================================')\n"
   ]
  },
  {
   "cell_type": "code",
   "execution_count": 56,
   "id": "04c10a03",
   "metadata": {},
   "outputs": [
    {
     "name": "stdout",
     "output_type": "stream",
     "text": [
      "Accuracy Score of DecisionTreeClassifier=  0.87465771957357\n",
      "====================================================\n",
      "f1 score score fo DecisionTreeClassifier = 0.8760502178031316\n",
      "====================================================\n",
      "precision_score of DecisionTreeClassifier is= 0.8656091370558375\n",
      "====================================================\n",
      "recall_score of DecisionTreeClassifier is = 0.886746257014712\n",
      "===================================================\n",
      "coonfusion matrxi of DecisionTreeClassifier =\n",
      " [[39888  6354]\n",
      " [ 5227 40926]]\n",
      "===================================================\n"
     ]
    }
   ],
   "source": [
    "#import Libraries\n",
    "from sklearn.ensemble import RandomForestClassifier,ExtraTreesClassifier\n",
    "from sklearn.tree import DecisionTreeClassifier\n",
    "from sklearn.metrics import confusion_matrix,accuracy_score,f1_score,precision_score,recall_score\n",
    "etc = ExtraTreesClassifier()\n",
    "etc.fit(X_train,y_train)\n",
    "#prediction\n",
    "etc_pred = etc.predict(X_test)\n",
    "#accuracy score\n",
    "etc_acc = accuracy_score(y_test,etc_pred)\n",
    "print(\"Accuracy Score of ExtraTreesClassifier = \",etc_acc)\n",
    "print('====================================================')\n",
    "#finding the f1 score\n",
    "etc_f1 = f1_score(y_test,etc_pred)\n",
    "print(\"f1 score score of ExtraTreesClassifier  =\",etc_f1)\n",
    "print('====================================================')\n",
    "etc_pre = precision_score(y_test,etc_pred)\n",
    "print('precision_score of ExtraTreesClassifier  is=',etc_pre)\n",
    "print('====================================================')\n",
    "#recall_score\n",
    "etc_rec = recall_score(y_test,etc_pred)\n",
    "print('recall_score of ExtraTreesClassifier  is =',etc_rec)\n",
    "print('===================================================')\n",
    "#confusion matrix\n",
    "etc_cm = confusion_matrix(y_test, etc_pred) \n",
    "print('coonfusion matrxi of ExtraTreesClassifier  =\\n',etc_cm)\n",
    "print('===================================================')"
   ]
  },
  {
   "cell_type": "code",
   "execution_count": 104,
   "id": "cd92d2e2",
   "metadata": {
    "papermill": {
     "duration": 0.015122,
     "end_time": "2024-07-17T09:05:26.127541",
     "exception": false,
     "start_time": "2024-07-17T09:05:26.112419",
     "status": "completed"
    },
    "tags": []
   },
   "outputs": [
    {
     "name": "stderr",
     "output_type": "stream",
     "text": [
      "C:\\Users\\085\\AppData\\Roaming\\Python\\Python310\\site-packages\\sklearn\\base.py:493: UserWarning: X does not have valid feature names, but KNeighborsClassifier was fitted with feature names\n",
      "  warnings.warn(\n"
     ]
    }
   ],
   "source": [
    "new=[9769.81,25,2,16,0.0,0.0,1.0,0.0,0.0,1.0,0.0,0.0]\n",
    "prrd= knn.predict([new])"
   ]
  },
  {
   "cell_type": "code",
   "execution_count": 105,
   "id": "84639906",
   "metadata": {},
   "outputs": [
    {
     "data": {
      "text/plain": [
       "array([1])"
      ]
     },
     "execution_count": 105,
     "metadata": {},
     "output_type": "execute_result"
    }
   ],
   "source": [
    "prrd"
   ]
  },
  {
   "cell_type": "code",
   "execution_count": 106,
   "id": "aa5ab94c",
   "metadata": {},
   "outputs": [
    {
     "name": "stdout",
     "output_type": "stream",
     "text": [
      "[1]\n"
     ]
    },
    {
     "name": "stderr",
     "output_type": "stream",
     "text": [
      "C:\\Users\\085\\AppData\\Roaming\\Python\\Python310\\site-packages\\sklearn\\base.py:493: UserWarning: X does not have valid feature names, but ExtraTreesClassifier was fitted with feature names\n",
      "  warnings.warn(\n"
     ]
    }
   ],
   "source": [
    "sucess=[9341.93,7,13,27,0,0,1,0,0,1,0,0]\n",
    "\n",
    "pred= et.predict([new])\n",
    "print(pred)\n"
   ]
  },
  {
   "cell_type": "code",
   "execution_count": 107,
   "id": "7aed5ce5",
   "metadata": {},
   "outputs": [
    {
     "data": {
      "text/plain": [
       "['lrt.joblib']"
      ]
     },
     "execution_count": 107,
     "metadata": {},
     "output_type": "execute_result"
    }
   ],
   "source": [
    "import joblib\n",
    "joblib.dump(rf,'rfk.joblib')\n",
    "joblib.dump(dt,'dec.joblib')\n",
    "joblib.dump(lr,'lrt.joblib')"
   ]
  },
  {
   "cell_type": "code",
   "execution_count": 108,
   "id": "b91078a4",
   "metadata": {},
   "outputs": [
    {
     "name": "stderr",
     "output_type": "stream",
     "text": [
      "C:\\Users\\085\\AppData\\Roaming\\Python\\Python310\\site-packages\\sklearn\\base.py:493: UserWarning: X does not have valid feature names, but RandomForestClassifier was fitted with feature names\n",
      "  warnings.warn(\n"
     ]
    },
    {
     "data": {
      "text/plain": [
       "array([0])"
      ]
     },
     "execution_count": 108,
     "metadata": {},
     "output_type": "execute_result"
    }
   ],
   "source": [
    "\n",
    "new=[2434.9,\t1,\t8,\t15,\t0,\t0,\t0,\t0,\t0,\t0,\t0,\t0]\n",
    "pred = rf.predict([new])\n",
    "pred"
   ]
  },
  {
   "cell_type": "code",
   "execution_count": 109,
   "id": "81fc9c5d",
   "metadata": {},
   "outputs": [
    {
     "name": "stderr",
     "output_type": "stream",
     "text": [
      "C:\\Users\\085\\AppData\\Roaming\\Python\\Python310\\site-packages\\sklearn\\base.py:493: UserWarning: X does not have valid feature names, but RandomForestClassifier was fitted with feature names\n",
      "  warnings.warn(\n"
     ]
    },
    {
     "data": {
      "text/plain": [
       "array([0])"
      ]
     },
     "execution_count": 109,
     "metadata": {},
     "output_type": "execute_result"
    }
   ],
   "source": [
    "zero=[6644.74\t,28\t,5,\t21\t,0\t,0\t,1,\t0,\t0\t,0,\t0,\t1]\n",
    "pred1 = rf.predict([zero])\n",
    "pred1"
   ]
  },
  {
   "cell_type": "code",
   "execution_count": 110,
   "id": "bf5cf57e",
   "metadata": {},
   "outputs": [
    {
     "name": "stderr",
     "output_type": "stream",
     "text": [
      "C:\\Users\\085\\AppData\\Roaming\\Python\\Python310\\site-packages\\sklearn\\base.py:493: UserWarning: X does not have valid feature names, but RandomForestClassifier was fitted with feature names\n",
      "  warnings.warn(\n"
     ]
    },
    {
     "data": {
      "text/plain": [
       "array([1])"
      ]
     },
     "execution_count": 110,
     "metadata": {},
     "output_type": "execute_result"
    }
   ],
   "source": [
    "zero=[753.02,\t4,\t15\t,16,\t1\t,0,\t0,\t0\t,0,\t0,0,0]\n",
    "pred1 = rf.predict([zero])\n",
    "pred1"
   ]
  },
  {
   "cell_type": "code",
   "execution_count": 101,
   "id": "aff8905f",
   "metadata": {},
   "outputs": [
    {
     "data": {
      "application/vnd.plotly.v1+json": {
       "config": {
        "plotlyServerURL": "https://plot.ly"
       },
       "data": [
        {
         "name": "Accuracy",
         "type": "bar",
         "x": [
          "DecisionTree",
          "RandomForest",
          "svc",
          "Exara tree Classifier",
          "knn"
         ],
         "y": [
          65,
          60,
          67,
          67,
          72
         ]
        }
       ],
       "layout": {
        "bargroupgap": 0.2,
        "barmode": "group",
        "template": {
         "data": {
          "bar": [
           {
            "error_x": {
             "color": "#2a3f5f"
            },
            "error_y": {
             "color": "#2a3f5f"
            },
            "marker": {
             "line": {
              "color": "#E5ECF6",
              "width": 0.5
             },
             "pattern": {
              "fillmode": "overlay",
              "size": 10,
              "solidity": 0.2
             }
            },
            "type": "bar"
           }
          ],
          "barpolar": [
           {
            "marker": {
             "line": {
              "color": "#E5ECF6",
              "width": 0.5
             },
             "pattern": {
              "fillmode": "overlay",
              "size": 10,
              "solidity": 0.2
             }
            },
            "type": "barpolar"
           }
          ],
          "carpet": [
           {
            "aaxis": {
             "endlinecolor": "#2a3f5f",
             "gridcolor": "white",
             "linecolor": "white",
             "minorgridcolor": "white",
             "startlinecolor": "#2a3f5f"
            },
            "baxis": {
             "endlinecolor": "#2a3f5f",
             "gridcolor": "white",
             "linecolor": "white",
             "minorgridcolor": "white",
             "startlinecolor": "#2a3f5f"
            },
            "type": "carpet"
           }
          ],
          "choropleth": [
           {
            "colorbar": {
             "outlinewidth": 0,
             "ticks": ""
            },
            "type": "choropleth"
           }
          ],
          "contour": [
           {
            "colorbar": {
             "outlinewidth": 0,
             "ticks": ""
            },
            "colorscale": [
             [
              0,
              "#0d0887"
             ],
             [
              0.1111111111111111,
              "#46039f"
             ],
             [
              0.2222222222222222,
              "#7201a8"
             ],
             [
              0.3333333333333333,
              "#9c179e"
             ],
             [
              0.4444444444444444,
              "#bd3786"
             ],
             [
              0.5555555555555556,
              "#d8576b"
             ],
             [
              0.6666666666666666,
              "#ed7953"
             ],
             [
              0.7777777777777778,
              "#fb9f3a"
             ],
             [
              0.8888888888888888,
              "#fdca26"
             ],
             [
              1,
              "#f0f921"
             ]
            ],
            "type": "contour"
           }
          ],
          "contourcarpet": [
           {
            "colorbar": {
             "outlinewidth": 0,
             "ticks": ""
            },
            "type": "contourcarpet"
           }
          ],
          "heatmap": [
           {
            "colorbar": {
             "outlinewidth": 0,
             "ticks": ""
            },
            "colorscale": [
             [
              0,
              "#0d0887"
             ],
             [
              0.1111111111111111,
              "#46039f"
             ],
             [
              0.2222222222222222,
              "#7201a8"
             ],
             [
              0.3333333333333333,
              "#9c179e"
             ],
             [
              0.4444444444444444,
              "#bd3786"
             ],
             [
              0.5555555555555556,
              "#d8576b"
             ],
             [
              0.6666666666666666,
              "#ed7953"
             ],
             [
              0.7777777777777778,
              "#fb9f3a"
             ],
             [
              0.8888888888888888,
              "#fdca26"
             ],
             [
              1,
              "#f0f921"
             ]
            ],
            "type": "heatmap"
           }
          ],
          "heatmapgl": [
           {
            "colorbar": {
             "outlinewidth": 0,
             "ticks": ""
            },
            "colorscale": [
             [
              0,
              "#0d0887"
             ],
             [
              0.1111111111111111,
              "#46039f"
             ],
             [
              0.2222222222222222,
              "#7201a8"
             ],
             [
              0.3333333333333333,
              "#9c179e"
             ],
             [
              0.4444444444444444,
              "#bd3786"
             ],
             [
              0.5555555555555556,
              "#d8576b"
             ],
             [
              0.6666666666666666,
              "#ed7953"
             ],
             [
              0.7777777777777778,
              "#fb9f3a"
             ],
             [
              0.8888888888888888,
              "#fdca26"
             ],
             [
              1,
              "#f0f921"
             ]
            ],
            "type": "heatmapgl"
           }
          ],
          "histogram": [
           {
            "marker": {
             "pattern": {
              "fillmode": "overlay",
              "size": 10,
              "solidity": 0.2
             }
            },
            "type": "histogram"
           }
          ],
          "histogram2d": [
           {
            "colorbar": {
             "outlinewidth": 0,
             "ticks": ""
            },
            "colorscale": [
             [
              0,
              "#0d0887"
             ],
             [
              0.1111111111111111,
              "#46039f"
             ],
             [
              0.2222222222222222,
              "#7201a8"
             ],
             [
              0.3333333333333333,
              "#9c179e"
             ],
             [
              0.4444444444444444,
              "#bd3786"
             ],
             [
              0.5555555555555556,
              "#d8576b"
             ],
             [
              0.6666666666666666,
              "#ed7953"
             ],
             [
              0.7777777777777778,
              "#fb9f3a"
             ],
             [
              0.8888888888888888,
              "#fdca26"
             ],
             [
              1,
              "#f0f921"
             ]
            ],
            "type": "histogram2d"
           }
          ],
          "histogram2dcontour": [
           {
            "colorbar": {
             "outlinewidth": 0,
             "ticks": ""
            },
            "colorscale": [
             [
              0,
              "#0d0887"
             ],
             [
              0.1111111111111111,
              "#46039f"
             ],
             [
              0.2222222222222222,
              "#7201a8"
             ],
             [
              0.3333333333333333,
              "#9c179e"
             ],
             [
              0.4444444444444444,
              "#bd3786"
             ],
             [
              0.5555555555555556,
              "#d8576b"
             ],
             [
              0.6666666666666666,
              "#ed7953"
             ],
             [
              0.7777777777777778,
              "#fb9f3a"
             ],
             [
              0.8888888888888888,
              "#fdca26"
             ],
             [
              1,
              "#f0f921"
             ]
            ],
            "type": "histogram2dcontour"
           }
          ],
          "mesh3d": [
           {
            "colorbar": {
             "outlinewidth": 0,
             "ticks": ""
            },
            "type": "mesh3d"
           }
          ],
          "parcoords": [
           {
            "line": {
             "colorbar": {
              "outlinewidth": 0,
              "ticks": ""
             }
            },
            "type": "parcoords"
           }
          ],
          "pie": [
           {
            "automargin": true,
            "type": "pie"
           }
          ],
          "scatter": [
           {
            "fillpattern": {
             "fillmode": "overlay",
             "size": 10,
             "solidity": 0.2
            },
            "type": "scatter"
           }
          ],
          "scatter3d": [
           {
            "line": {
             "colorbar": {
              "outlinewidth": 0,
              "ticks": ""
             }
            },
            "marker": {
             "colorbar": {
              "outlinewidth": 0,
              "ticks": ""
             }
            },
            "type": "scatter3d"
           }
          ],
          "scattercarpet": [
           {
            "marker": {
             "colorbar": {
              "outlinewidth": 0,
              "ticks": ""
             }
            },
            "type": "scattercarpet"
           }
          ],
          "scattergeo": [
           {
            "marker": {
             "colorbar": {
              "outlinewidth": 0,
              "ticks": ""
             }
            },
            "type": "scattergeo"
           }
          ],
          "scattergl": [
           {
            "marker": {
             "colorbar": {
              "outlinewidth": 0,
              "ticks": ""
             }
            },
            "type": "scattergl"
           }
          ],
          "scattermapbox": [
           {
            "marker": {
             "colorbar": {
              "outlinewidth": 0,
              "ticks": ""
             }
            },
            "type": "scattermapbox"
           }
          ],
          "scatterpolar": [
           {
            "marker": {
             "colorbar": {
              "outlinewidth": 0,
              "ticks": ""
             }
            },
            "type": "scatterpolar"
           }
          ],
          "scatterpolargl": [
           {
            "marker": {
             "colorbar": {
              "outlinewidth": 0,
              "ticks": ""
             }
            },
            "type": "scatterpolargl"
           }
          ],
          "scatterternary": [
           {
            "marker": {
             "colorbar": {
              "outlinewidth": 0,
              "ticks": ""
             }
            },
            "type": "scatterternary"
           }
          ],
          "surface": [
           {
            "colorbar": {
             "outlinewidth": 0,
             "ticks": ""
            },
            "colorscale": [
             [
              0,
              "#0d0887"
             ],
             [
              0.1111111111111111,
              "#46039f"
             ],
             [
              0.2222222222222222,
              "#7201a8"
             ],
             [
              0.3333333333333333,
              "#9c179e"
             ],
             [
              0.4444444444444444,
              "#bd3786"
             ],
             [
              0.5555555555555556,
              "#d8576b"
             ],
             [
              0.6666666666666666,
              "#ed7953"
             ],
             [
              0.7777777777777778,
              "#fb9f3a"
             ],
             [
              0.8888888888888888,
              "#fdca26"
             ],
             [
              1,
              "#f0f921"
             ]
            ],
            "type": "surface"
           }
          ],
          "table": [
           {
            "cells": {
             "fill": {
              "color": "#EBF0F8"
             },
             "line": {
              "color": "white"
             }
            },
            "header": {
             "fill": {
              "color": "#C8D4E3"
             },
             "line": {
              "color": "white"
             }
            },
            "type": "table"
           }
          ]
         },
         "layout": {
          "annotationdefaults": {
           "arrowcolor": "#2a3f5f",
           "arrowhead": 0,
           "arrowwidth": 1
          },
          "autotypenumbers": "strict",
          "coloraxis": {
           "colorbar": {
            "outlinewidth": 0,
            "ticks": ""
           }
          },
          "colorscale": {
           "diverging": [
            [
             0,
             "#8e0152"
            ],
            [
             0.1,
             "#c51b7d"
            ],
            [
             0.2,
             "#de77ae"
            ],
            [
             0.3,
             "#f1b6da"
            ],
            [
             0.4,
             "#fde0ef"
            ],
            [
             0.5,
             "#f7f7f7"
            ],
            [
             0.6,
             "#e6f5d0"
            ],
            [
             0.7,
             "#b8e186"
            ],
            [
             0.8,
             "#7fbc41"
            ],
            [
             0.9,
             "#4d9221"
            ],
            [
             1,
             "#276419"
            ]
           ],
           "sequential": [
            [
             0,
             "#0d0887"
            ],
            [
             0.1111111111111111,
             "#46039f"
            ],
            [
             0.2222222222222222,
             "#7201a8"
            ],
            [
             0.3333333333333333,
             "#9c179e"
            ],
            [
             0.4444444444444444,
             "#bd3786"
            ],
            [
             0.5555555555555556,
             "#d8576b"
            ],
            [
             0.6666666666666666,
             "#ed7953"
            ],
            [
             0.7777777777777778,
             "#fb9f3a"
            ],
            [
             0.8888888888888888,
             "#fdca26"
            ],
            [
             1,
             "#f0f921"
            ]
           ],
           "sequentialminus": [
            [
             0,
             "#0d0887"
            ],
            [
             0.1111111111111111,
             "#46039f"
            ],
            [
             0.2222222222222222,
             "#7201a8"
            ],
            [
             0.3333333333333333,
             "#9c179e"
            ],
            [
             0.4444444444444444,
             "#bd3786"
            ],
            [
             0.5555555555555556,
             "#d8576b"
            ],
            [
             0.6666666666666666,
             "#ed7953"
            ],
            [
             0.7777777777777778,
             "#fb9f3a"
            ],
            [
             0.8888888888888888,
             "#fdca26"
            ],
            [
             1,
             "#f0f921"
            ]
           ]
          },
          "colorway": [
           "#636efa",
           "#EF553B",
           "#00cc96",
           "#ab63fa",
           "#FFA15A",
           "#19d3f3",
           "#FF6692",
           "#B6E880",
           "#FF97FF",
           "#FECB52"
          ],
          "font": {
           "color": "#2a3f5f"
          },
          "geo": {
           "bgcolor": "white",
           "lakecolor": "white",
           "landcolor": "#E5ECF6",
           "showlakes": true,
           "showland": true,
           "subunitcolor": "white"
          },
          "hoverlabel": {
           "align": "left"
          },
          "hovermode": "closest",
          "mapbox": {
           "style": "light"
          },
          "paper_bgcolor": "white",
          "plot_bgcolor": "#E5ECF6",
          "polar": {
           "angularaxis": {
            "gridcolor": "white",
            "linecolor": "white",
            "ticks": ""
           },
           "bgcolor": "#E5ECF6",
           "radialaxis": {
            "gridcolor": "white",
            "linecolor": "white",
            "ticks": ""
           }
          },
          "scene": {
           "xaxis": {
            "backgroundcolor": "#E5ECF6",
            "gridcolor": "white",
            "gridwidth": 2,
            "linecolor": "white",
            "showbackground": true,
            "ticks": "",
            "zerolinecolor": "white"
           },
           "yaxis": {
            "backgroundcolor": "#E5ECF6",
            "gridcolor": "white",
            "gridwidth": 2,
            "linecolor": "white",
            "showbackground": true,
            "ticks": "",
            "zerolinecolor": "white"
           },
           "zaxis": {
            "backgroundcolor": "#E5ECF6",
            "gridcolor": "white",
            "gridwidth": 2,
            "linecolor": "white",
            "showbackground": true,
            "ticks": "",
            "zerolinecolor": "white"
           }
          },
          "shapedefaults": {
           "line": {
            "color": "#2a3f5f"
           }
          },
          "ternary": {
           "aaxis": {
            "gridcolor": "white",
            "linecolor": "white",
            "ticks": ""
           },
           "baxis": {
            "gridcolor": "white",
            "linecolor": "white",
            "ticks": ""
           },
           "bgcolor": "#E5ECF6",
           "caxis": {
            "gridcolor": "white",
            "linecolor": "white",
            "ticks": ""
           }
          },
          "title": {
           "x": 0.05
          },
          "xaxis": {
           "automargin": true,
           "gridcolor": "white",
           "linecolor": "white",
           "ticks": "",
           "title": {
            "standoff": 15
           },
           "zerolinecolor": "white",
           "zerolinewidth": 2
          },
          "yaxis": {
           "automargin": true,
           "gridcolor": "white",
           "linecolor": "white",
           "ticks": "",
           "title": {
            "standoff": 15
           },
           "zerolinecolor": "white",
           "zerolinewidth": 2
          }
         }
        },
        "title": {
         "text": "Model Accuracies"
        },
        "xaxis": {
         "title": {
          "text": "Models"
         }
        },
        "yaxis": {
         "title": {
          "text": "Accuracy"
         }
        }
       }
      }
     },
     "metadata": {},
     "output_type": "display_data"
    }
   ],
   "source": [
    "import plotly.graph_objects as go\n",
    "\n",
    "# Data for Models and their Accuracies\n",
    "\n",
    "model_names = ['DecisionTree', 'RandomForest', 'svc', 'Exara tree Classifier','knn']\n",
    "accuracies = [65,60,67,67,72]\n",
    "\n",
    "# Create the bar chart\n",
    "fig = go.Figure()\n",
    "fig.add_trace(go.Bar(\n",
    "    x=model_names,\n",
    "    y=accuracies,\n",
    "    name='Accuracy'\n",
    "))\n",
    "\n",
    "# Set the layout\n",
    "fig.update_layout(\n",
    "    title='Model Accuracies',\n",
    "    xaxis_title='Models',\n",
    "    yaxis_title='Accuracy',\n",
    "    barmode='group',\n",
    "    bargroupgap=0.2\n",
    ")\n",
    "\n",
    "# Show the plot\n",
    "fig.show()\n"
   ]
  },
  {
   "cell_type": "code",
   "execution_count": null,
   "id": "36a06ee4",
   "metadata": {},
   "outputs": [],
   "source": []
  },
  {
   "cell_type": "code",
   "execution_count": null,
   "id": "a576726f",
   "metadata": {},
   "outputs": [],
   "source": [
    "# # Import necessary libraries\n",
    "# from sklearn.tree import DecisionTreeClassifier\n",
    "# from sklearn.model_selection import RandomizedSearchCV, train_test_split\n",
    "# from sklearn.metrics import classification_report, accuracy_score, confusion_matrix\n",
    "# import numpy as np\n",
    "\n",
    "# # Define the parameter grid (search space) for Decision Tree\n",
    "# param_dist = {\n",
    "#     'max_depth': [None] + list(np.arange(1, 150)),  # Depth from 1 to 20 or None (no limit)\n",
    "#     'min_samples_split': np.arange(2, 31, 2),  # Minimum samples required to split a node\n",
    "#     'min_samples_leaf': np.arange(1, 21, 2),  # Minimum samples required at each leaf\n",
    "#     'max_features': ['auto', 'sqrt', 'log2'],  # Number of features considered at each split\n",
    "# }\n",
    "\n",
    "# # Initialize the DecisionTreeClassifier\n",
    "# dt = DecisionTreeClassifier()\n",
    "\n",
    "# # Initialize RandomizedSearchCV\n",
    "# random_search = RandomizedSearchCV(estimator=dt, \n",
    "#                                    param_distributions=param_dist, \n",
    "#                                    n_iter=100,  # Number of parameter settings sampled\n",
    "#                                    cv=5,        # 3-fold cross-validation\n",
    "#                                    verbose=2,   # Output verbosity\n",
    "#                                    random_state=42,  # Seed for reproducibility\n",
    "#                                    n_jobs=-1)   # Use all available cores\n",
    "\n",
    "# # Fit RandomizedSearchCV to the training data\n",
    "# random_search.fit(X_train, y_train)\n",
    "\n",
    "# # Print the best hyperparameters found\n",
    "# print(\"Best Hyperparameters:\", random_search.best_params_)\n",
    "\n",
    "# # Use the best estimator to make predictions on the test set\n",
    "# best_dt = random_search.best_estimator_\n",
    "# y_pred = best_dt.predict(X_test)\n",
    "\n",
    "# # Calculate and print accuracy\n",
    "# accuracy = accuracy_score(y_test, y_pred)\n",
    "# print(f\"Accuracy: {accuracy:.4f}\")\n",
    "\n",
    "# # Print a detailed classification report (Precision, Recall, F1-Score for each class)\n",
    "# print(\"\\nClassification Report:\")\n",
    "# print(classification_report(y_test, y_pred))\n",
    "\n",
    "# # Print the confusion matrix\n",
    "# print(\"\\nConfusion Matrix:\")\n",
    "# print(confusion_matrix(y_test, y_pred))\n"
   ]
  },
  {
   "cell_type": "code",
   "execution_count": null,
   "id": "24f94576",
   "metadata": {},
   "outputs": [],
   "source": [
    "# # Import necessary libraries\n",
    "# from sklearn.ensemble import RandomForestClassifier\n",
    "# from sklearn.model_selection import RandomizedSearchCV, train_test_split\n",
    "# from sklearn.metrics import classification_report, accuracy_score, confusion_matrix\n",
    "# import numpy as np\n",
    "\n",
    "\n",
    "# # Define the parameter grid (search space)\n",
    "# param_dist = {\n",
    "#     'n_estimators': np.arange(10, 1000, 100),  # Number of trees from 100 to 1000\n",
    "#     'max_depth': [None] + list(np.arange(10, 110, 10)),  # Depth from 10 to 100 or None (no limit)\n",
    "#     'min_samples_split': np.arange(2, 20, 2),  # Minimum samples required to split a node\n",
    "#     'min_samples_leaf': np.arange(1, 20, 2),  # Minimum samples required at each leaf\n",
    "#     'max_features': ['auto', 'sqrt', 'log2'],  # Number of features considered at each split\n",
    "#     'bootstrap': [True, False]  # Whether to use bootstrapped samples\n",
    "# }\n",
    "\n",
    "# # Initialize the RandomForestClassifier\n",
    "# rf = RandomForestClassifier()\n",
    "\n",
    "# # Initialize RandomizedSearchCV\n",
    "# random_search = RandomizedSearchCV(estimator=rf, \n",
    "#                                    param_distributions=param_dist, \n",
    "#                                    n_iter=100,  # Number of parameter settings sampled\n",
    "#                                    cv=5,        # 3-fold cross-validation\n",
    "#                                    verbose=2,   # Output verbosity\n",
    "#                                    random_state=42,  # Seed for reproducibility\n",
    "#                                    n_jobs=-1)   # Use all available cores\n",
    "\n",
    "# # Fit RandomizedSearchCV to the training data\n",
    "# random_search.fit(X_train, y_train)\n",
    "\n",
    "# # Print the best hyperparameters found\n",
    "# print(\"Best Hyperparameters:\", random_search.best_params_)\n",
    "\n",
    "# # Use the best estimator to make predictions on the test set\n",
    "# best_rf = random_search.best_estimator_\n",
    "# y_pred = best_rf.predict(X_test)\n",
    "\n",
    "# # Calculate and print accuracy\n",
    "# accuracy = accuracy_score(y_test, y_pred)\n",
    "# print(f\"Accuracy: {accuracy:.4f}\")\n",
    "\n",
    "# # Print a detailed classification report (Precision, Recall, F1-Score for each class)\n",
    "# print(\"\\nClassification Report:\")\n",
    "# print(classification_report(y_test, y_pred))\n",
    "\n",
    "# # Print the confusion matrix\n",
    "# print(\"\\nConfusion Matrix:\")\n",
    "# print(confusion_matrix(y_test, y_pred))\n"
   ]
  }
 ],
 "metadata": {
  "kaggle": {
   "accelerator": "none",
   "dataSources": [
    {
     "datasetId": 5328314,
     "sourceId": 8851921,
     "sourceType": "datasetVersion"
    }
   ],
   "dockerImageVersionId": 30746,
   "isGpuEnabled": false,
   "isInternetEnabled": true,
   "language": "python",
   "sourceType": "notebook"
  },
  "kernelspec": {
   "display_name": "base",
   "language": "python",
   "name": "python3"
  },
  "language_info": {
   "codemirror_mode": {
    "name": "ipython",
    "version": 3
   },
   "file_extension": ".py",
   "mimetype": "text/x-python",
   "name": "python",
   "nbconvert_exporter": "python",
   "pygments_lexer": "ipython3",
   "version": "3.11.7"
  },
  "papermill": {
   "default_parameters": {},
   "duration": 9.407144,
   "end_time": "2024-07-17T09:05:26.764762",
   "environment_variables": {},
   "exception": null,
   "input_path": "__notebook__.ipynb",
   "output_path": "__notebook__.ipynb",
   "parameters": {},
   "start_time": "2024-07-17T09:05:17.357618",
   "version": "2.5.0"
  }
 },
 "nbformat": 4,
 "nbformat_minor": 5
}
